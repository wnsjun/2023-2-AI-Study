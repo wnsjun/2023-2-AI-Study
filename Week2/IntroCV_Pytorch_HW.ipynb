{
  "cells": [
    {
      "cell_type": "markdown",
      "metadata": {
        "id": "41RW3mZnjIf4"
      },
      "source": [
        "# Pytorch 과제\n",
        "> 인공지능 스터디 두 번째 과제에 오신 것을 환영합니다! Pytorch 강의를 들으면서 배운 다양한 지식들을 실습을 통해서 활용해볼 시간을 가질 것입니다!"
      ]
    },
    {
      "cell_type": "markdown",
      "metadata": {
        "id": "SZRUYNcjjIf8"
      },
      "source": [
        "```python\n",
        "이번 과제도 우리 친구 딥토와 함께합니다.\n",
        "\n",
        "🐙\n",
        "다시 만나서 반가워요! 이번에도 열심히 해봐요!!\n",
        "\n",
        "```\n",
        "\n",
        "\n",
        "```python\n",
        "🐙\n",
        "퀴즈를 통해서 강의에서 배웠던 내용을 같이 복습해 봐요!\n",
        "```"
      ]
    },
    {
      "cell_type": "markdown",
      "metadata": {
        "id": "w-EGtUz6jIf9"
      },
      "source": [
        "#### ❓ <font color='red'><b>[ 퀴즈 ]</b></font> FCN (단일선택)\n",
        "```python\n",
        "다음 보기 중 FCN(Fully convolution Network)에 대해 가장 알맞은 것을 선택해 주세요.\n",
        "\n",
        "(1) 입력 이미지 크기에 관계없이 다양한 크기의 이미지를 입력받을 수 있다.\n",
        "(2) FC(Fully connected) layer를 네트워크의 마지막 단에 사용한다.\n",
        "(3) Object Detection task를 해결하기 위해 고안되었다.\n",
        "(4) 주로 텍스트 데이터를 처리하는 데 사용된다.\n",
        "```"
      ]
    },
    {
      "cell_type": "markdown",
      "metadata": {
        "id": "K-zo6tvLjIf9"
      },
      "source": [
        "```python\n",
        "😉\n",
        "# TODO : 1번\n",
        "\n",
        "```"
      ]
    },
    {
      "cell_type": "markdown",
      "metadata": {
        "id": "exJ6u1_2jIf9"
      },
      "source": [
        "#### ❓ <font color='red'><b>[ 퀴즈 ]</b></font> Object Detection (단일선택)\n",
        "```python\n",
        "다음 보기 중 RPN(Region Proposal Network)를 사용하는 네트워크를 선택해 주세요.\n",
        "\n",
        "(1) R-CNN\n",
        "(2) SPPNet\n",
        "(3) Fast R-CNN\n",
        "(4) Faster R-CNN\n",
        "```"
      ]
    },
    {
      "cell_type": "markdown",
      "metadata": {
        "id": "QAC1atIejIf-"
      },
      "source": [
        "```python\n",
        "😉\n",
        "# TODO : 3번\n",
        "\n",
        "```"
      ]
    },
    {
      "cell_type": "markdown",
      "metadata": {
        "id": "PQb9aN8FjIf-"
      },
      "source": [
        "#### ❓ <font color='red'><b>[ 퀴즈 ]</b></font> Pytorch 기본 (단일선택)\n",
        "```python\n",
        "import torch\n",
        "\n",
        "a = torch.zeros(4,2)\n",
        "b = a.view(2,4)\n",
        "a.fill_(1)\n",
        "\n",
        "a = torch.zeros(4,2)\n",
        "c = a.t().reshape(8)\n",
        "a.fill_(1)\n",
        "\n",
        "위의 코드를 보고 b와 c의 알맞은 결과를 선택해주세요.\n",
        "\n",
        "(1) b =tensor([[1., 1., 1., 1.], [1., 1., 1., 1.]]), c =tensor([0., 0., 0., 0., 0., 0., 0., 0.])\n",
        "(2) b =tensor([[1., 1., 1., 1.], [1., 1., 1., 1.]]), c =tensor([1., 1., 1., 1., 1., 1., 1., 1.])\n",
        "(3) b =tensor([[0., 0., 0., 0.], [0., 0., 0., 0.]]), c =tensor([1., 1., 1., 1., 1., 1., 1., 1.])\n",
        "(4) b =tensor([[0., 0., 0., 0.], [0., 0., 0., 0.]]), c =tensor([0., 0., 0., 0., 0., 0., 0., 0.])\n",
        "```"
      ]
    },
    {
      "cell_type": "markdown",
      "metadata": {
        "id": "TjeV7d5ujIf_"
      },
      "source": [
        "```python\n",
        "😉\n",
        "# TODO : 2번\n",
        "\n",
        "```"
      ]
    },
    {
      "cell_type": "markdown",
      "metadata": {
        "id": "coVKx50SjIf_"
      },
      "source": [
        "#### ❓ <font color='red'><b>[ 퀴즈 ]</b></font> Pytorch 구조 학습하기 (단일선택)\n",
        "```python\n",
        "backward라는 함수가 호출되면서 해당 값으로 파라미터가 업데이트해가는 과정입니다.\n",
        "epoch가 돌아갈 때마다 순서대로 연산이 진행이 되는데, 보기의 중 틀린 것을 고르세요.\n",
        "```\n",
        "\n",
        "**힌트**\n",
        "- 강의 자료 backward 설명(41페이지)을 참고해봐요!\n",
        "\n",
        "```python\n",
        "(1) optimizer.zero_grad()\n",
        "(2) loss = criterion(outputs, labels)\n",
        "(3) loss.forward()\n",
        "(4) optimizer.step()\n",
        "```"
      ]
    },
    {
      "cell_type": "markdown",
      "metadata": {
        "id": "yn_2Tf5YjIgB"
      },
      "source": [
        "```python\n",
        "😉\n",
        "# TODO : 3번\n",
        "\n",
        "```"
      ]
    },
    {
      "cell_type": "markdown",
      "metadata": {
        "id": "z8ZyGIYhjIgB"
      },
      "source": [
        "##  모델 제작을 위한 Documentation 활용\n",
        "```\n",
        "🔮 PyTorch 라이브러리의 Documentation을 함께 살펴보면서 Custom 모델\n",
        "   제작을 위해 Documentation을 활용하는 방법을 배워봅시다!\n",
        "```"
      ]
    },
    {
      "cell_type": "markdown",
      "metadata": {
        "id": "EAF7fuBnjIgC"
      },
      "source": [
        "### Documentation 둘러보기\n",
        "\n",
        "``` python\n",
        "🐙\n",
        "PyTorch를 알기 위해서 공식 documention을 들어가보았어요!\n",
        "저희 함께 Documentation을 둘러보아요!\n",
        "```\n",
        "- [Documentation main - PyTorch 공식 문서](https://pytorch.org/docs/stable/index.html)"
      ]
    },
    {
      "cell_type": "markdown",
      "metadata": {
        "id": "2RCAd4twjIgC"
      },
      "source": [
        "### Documentation에서 정보 탐색하기\n"
      ]
    },
    {
      "cell_type": "markdown",
      "metadata": {
        "id": "uh86cfFgjIgC"
      },
      "source": [
        "#### ❓ <font color='red'><b>[ 퀴즈 ]</b></font> Documentation이 제공하는 search 기능 활용"
      ]
    },
    {
      "cell_type": "markdown",
      "metadata": {
        "id": "kskpFdXgjIgD"
      },
      "source": [
        "##### Matrix Multiplication\n",
        "\n",
        "``` python\n",
        "🐙\n",
        "pytorch에서 Matrix Multiplication을 하고 싶을 때 사용하는 함수는 무엇일까요?\n",
        "```"
      ]
    },
    {
      "cell_type": "markdown",
      "metadata": {
        "id": "aNnL5knZjIgD"
      },
      "source": [
        "```python\n",
        "😉\n",
        "# TODO : torch.mm 함수\n",
        "\n",
        "```"
      ]
    },
    {
      "cell_type": "markdown",
      "metadata": {
        "id": "zO488lm3jIgE"
      },
      "source": [
        "#### 👨‍💻 <font color='green'><b>[ 코딩 ]</b></font> 사칙연산 계산하기\n",
        "\n",
        "``` python\n",
        "🐙\n",
        "저희도 이제 드디어 PyTorch를 이용해 코딩을 시작하네요!\n",
        "간단한 사칙연산으로 같이 시작해봐요!\n",
        "```\n",
        "- [Documentation main - PyTorch 공식 문서](https://pytorch.org/docs/stable/index.html)"
      ]
    },
    {
      "cell_type": "markdown",
      "metadata": {
        "id": "i16Q_zb-jIgE"
      },
      "source": [
        "##### 💡 더하기 (add)\n",
        "> 🐙 딥토가 코드를 작성해주었어요!\n",
        "\n",
        "```python\n",
        "🐙\n",
        "5 + 7 계산을 먼저 제가 해볼게요!\n",
        "```\n",
        "\n",
        "- [torch.add - PyTorch 공식 문서](https://pytorch.org/docs/stable/generated/torch.add.html?highlight=add#torch.add)"
      ]
    },
    {
      "cell_type": "code",
      "execution_count": null,
      "metadata": {
        "id": "SNpoyBBmjIgF",
        "colab": {
          "base_uri": "https://localhost:8080/"
        },
        "outputId": "4c6c09ef-6501-47a4-ac7b-109a926d95f3"
      },
      "outputs": [
        {
          "output_type": "execute_result",
          "data": {
            "text/plain": [
              "tensor([12.])"
            ]
          },
          "metadata": {},
          "execution_count": 1
        }
      ],
      "source": [
        "import torch\n",
        "\n",
        "A = torch.Tensor([5])\n",
        "B = torch.Tensor([7])\n",
        "\n",
        "torch.add(A, B)"
      ]
    },
    {
      "cell_type": "code",
      "execution_count": null,
      "metadata": {
        "id": "BP1Jv2-UjIgG",
        "colab": {
          "base_uri": "https://localhost:8080/"
        },
        "outputId": "2b50c6e7-f82b-4e76-ecea-ba10484b1650"
      },
      "outputs": [
        {
          "output_type": "execute_result",
          "data": {
            "text/plain": [
              "tensor([12.])"
            ]
          },
          "metadata": {},
          "execution_count": 2
        }
      ],
      "source": [
        "# 🐙 torch.add를 + 연산자를 통해서 사용 가능해요!\n",
        "A + B"
      ]
    },
    {
      "cell_type": "code",
      "execution_count": null,
      "metadata": {
        "id": "RfHgHOKRjIgH",
        "colab": {
          "base_uri": "https://localhost:8080/"
        },
        "outputId": "9c7becaf-980a-4f45-d9c9-acd7f0f53418"
      },
      "outputs": [
        {
          "output_type": "execute_result",
          "data": {
            "text/plain": [
              "tensor([12.])"
            ]
          },
          "metadata": {},
          "execution_count": 3
        }
      ],
      "source": [
        "# 🐙 계산할때 피연산자(operand)중 하나라도 tensor가 입력되면 결과는 tensor로 나와요!\n",
        "A + 7"
      ]
    },
    {
      "cell_type": "markdown",
      "metadata": {
        "id": "NgkfY85xjIgH"
      },
      "source": [
        "##### 💡 복잡한 사칙연산 계산\n",
        "```python\n",
        "🐙\n",
        "(3 + 7) * 2 - 5 / 10 은 무엇일까요?\n",
        "연산자(+, -, *, /) 없이 함수를 사용해 계산해주세요!\n",
        "```\n",
        "\n",
        "각 사칙연산은 torch에서 어떤 이름을 사용할까요?\n",
        "- `+` : [torch.add](https://pytorch.org/docs/stable/generated/torch.add.html?highlight=add#torch.add)\n",
        "- `-` :\n",
        "- `*` :\n",
        "- `/` :"
      ]
    },
    {
      "cell_type": "code",
      "execution_count": null,
      "metadata": {
        "id": "DN5eAvO7jIgH",
        "colab": {
          "base_uri": "https://localhost:8080/"
        },
        "outputId": "e8f1ba80-8467-4536-e0dc-71c9e370f4f9"
      },
      "outputs": [
        {
          "output_type": "stream",
          "name": "stdout",
          "text": [
            "🎉🎉🎉 성공!!! 🎉🎉🎉\n"
          ]
        }
      ],
      "source": [
        "import torch\n",
        "\n",
        "A = torch.Tensor([3])\n",
        "B = torch.Tensor([7])\n",
        "C = torch.Tensor([2])\n",
        "D = torch.Tensor([5])\n",
        "E = torch.Tensor([10])\n",
        "\n",
        "# TODO : torch 함수를 이용해서 (3 + 7) * 2 - 5 / 10 를 계산해보세요!\n",
        "# 정답 19.5가 나와야 합니다!\n",
        "\n",
        "output = torch.add(A, B) # 1줄에 torch 함수 하나씩만 사용하세요!\n",
        "output = torch.mul(output,C)\n",
        "output1= torch.div(D,E)\n",
        "output = torch.sub(output,output1)\n",
        "\n",
        "# 아래 코드는 수정하실 필요가 없습니다!\n",
        "if output == 19.5:\n",
        "    print(\"🎉🎉🎉 성공!!! 🎉🎉🎉\")\n",
        "else:\n",
        "    print(\"🐙 다시 도전해봐요!\")"
      ]
    },
    {
      "cell_type": "markdown",
      "metadata": {
        "id": "X9XiiEI0jIgI"
      },
      "source": [
        "###  Documentation 읽기\n",
        "\n"
      ]
    },
    {
      "cell_type": "markdown",
      "metadata": {
        "id": "QNfQ-XhRjIgI"
      },
      "source": [
        "#### torch.nn 문서 읽기\n",
        "``` python\n",
        "🐙\n",
        "설명에 그래프를 만들기 위한 \"basic building block\"이라고 쓰여있어요!\n",
        "\n",
        "지금까지 저희가 확인한 다양한 함수들을 잘 활용하면\n",
        "여기서 말하는 \"basic building block\"을 만들 수 있겠지만 시간이 걸리니까\n",
        "PyTorch에서 미리 만들어두고 이를 \"torch.nn\"으로 묶어놓은 것 같아요!\n",
        "\n",
        "여기서 제공해주는 블럭들을 잘 이용하면 그래프라는 딥러닝 모델을 만들 수 있을 것 같아요!\n",
        "\n",
        "우리 간단하게 훑어 봅시다!\n",
        "```\n",
        "\n",
        "- [torch.nn 문서 - PyTorch 공식 문서](https://pytorch.org/docs/stable/nn.html)\n",
        "\n",
        "\n",
        "-  torch.nn의 하위 목차를 한번 훑어보세요!\n",
        "-  각 하위 목차별로 어떤 레이어(Layer)혹은 함수(Function)가 속해있는지 훑어보세요!"
      ]
    },
    {
      "cell_type": "markdown",
      "metadata": {
        "id": "GwLqD_sPjIgI"
      },
      "source": [
        "#### 👨‍💻 <font color='green'><b>[ 코딩 ]</b></font> torch.nn `Linear Layers`\n",
        "\n",
        "``` python\n",
        "🐙\n",
        "딥러닝을 공부할 때 자주 나오던 y = WX + b 라는 공식이 기억나시나요?\n",
        "이 linear transformation을 구현해놓은 \"nn.Linear\"와 \"nn.Linear\"가 속해있는\n",
        "\"Linear Layers\" 항목을 같이 살펴봐요!\n",
        "```\n",
        "- [torch.nn.Linear - PyTorch 공식 문서](https://pytorch.org/docs/stable/generated/torch.nn.Linear.html#torch.nn.Linear)\n",
        "- [torch.nn Linear Layers - PyTorch 공식 문서](https://pytorch.org/docs/stable/nn.html#linear-layers)\n",
        "---"
      ]
    },
    {
      "cell_type": "markdown",
      "metadata": {
        "id": "s76Or7QqjIgJ"
      },
      "source": [
        "```python\n",
        "tensor X의 크기는 (2, 2)입니다.\n",
        "nn.Linear를 사용하여서 (2, 5)로 크기를 바꾸고 이 크기를 출력하세요!\n",
        "```\n",
        "\n",
        "🎁 **힌트** 🎁\n",
        "- PyTorch에는 tensor 크기(or 모양)를 반환하는 함수가 있어요! 영어로 크기가 무엇일까요?"
      ]
    },
    {
      "cell_type": "code",
      "execution_count": null,
      "metadata": {
        "id": "rvKwqW2XjIgJ",
        "colab": {
          "base_uri": "https://localhost:8080/"
        },
        "outputId": "1a316b60-79d7-426a-81aa-f4cd192f7340"
      },
      "outputs": [
        {
          "output_type": "stream",
          "name": "stdout",
          "text": [
            "Linear(in_features=2, out_features=5, bias=True)\n"
          ]
        }
      ],
      "source": [
        "import torch\n",
        "from torch import nn\n",
        "\n",
        "X = torch.Tensor([[1, 2],\n",
        "                  [3, 4]])\n",
        "\n",
        "output=nn.Linear(2,5)\n",
        "print(output)\n",
        "\n"
      ]
    },
    {
      "cell_type": "markdown",
      "metadata": {
        "id": "85CZTHv7jIgK"
      },
      "source": [
        "##  Custom 모델 제작을 위한 nn.Module 클래스\n",
        "\n",
        "```\n",
        "🔮 PyTorch 라이브러리가 제공해주는 다양한 기능들과\n",
        "   nn.Module를 활용하여 모델 제작 및 분석을 진행해볼 것입니다!\n",
        "```\n",
        "\n",
        "\n",
        "#### nn.Module 문서 읽기\n",
        "\n",
        "- [torch.nn.Module - PyTorch 공식 문서](https://pytorch.org/docs/stable/generated/torch.nn.Module.html)\n",
        "\n",
        "`nn.Module` 클래스는 여러 기능들을 한 곳에 모아놓는 상자 역할을 합니다.<br>\n",
        "`nn.Module`이라는 상자는 다른 `nn.Module` 상자를 포함할 수도 있습니다!<br>\n",
        "어떻게 사용햐느냐에 따라 `nn.Module` 상자는 다른 의미를 가집니다.\n",
        "\n",
        "- `nn.Module`이라는 상자에 `기능`들을 가득 모아놓은 경우 `basic building block`\n",
        "- `nn.Module`이라는 상자에 `basic building block`인 `nn.Module`들을 가득 모아놓은 경우 `딥러닝 모델`\n",
        "- `nn.Module`이라는 상자에 `딥러닝 모델`인 `nn.Module`들을 가득 모아놓은 경우 `더욱 큰 딥러닝 모델`\n",
        "\n",
        "`nn.Module`은 빈 상자일 뿐 이를 어떻게 사용할지는 온전히 설계자의 몫입니다!<br>\n",
        "`기능`과 `basic building block`과 `딥러닝 모델`을 혼재해서 마구잡이로 담을 수도 있고<br>\n",
        "`기능`은 `기능`끼리 `block`은 `block`끼리 계층적으로 담을 수도 있습니다!\n",
        "\n",
        "우리는 여기서 `nn.Module`를 이용해 모델을 제작해보고 제작한 모델이 어떻게 구성되어있는지 분석해볼 것입니다!<br>\n",
        "추가적으로 custom 모델 제작에 유용할 수 있는 `nn.Module`의 기능들도 살펴볼 것입니다!\n",
        "\n"
      ]
    },
    {
      "cell_type": "markdown",
      "metadata": {
        "id": "Fpwjnb9QjIgL"
      },
      "source": [
        "### nn.Module 모델 제작\n"
      ]
    },
    {
      "cell_type": "markdown",
      "metadata": {
        "id": "Kbzn2AxvjIgL"
      },
      "source": [
        "#### 👨‍💻 <font color='green'><b>[ 코딩 ]</b></font> 1 + 2\n",
        "\n",
        "``` python\n",
        "🐙\n",
        "Documentation을 읽어나가다가 \"torch.add\"를 이용해서\n",
        "사칙연산을 계산한 것을 기억하세요?\n",
        "\n",
        "이번에는 \"nn.Module\"를 이용해서 더하기 연산을 하는 모델을 만들어보아요!\n",
        "```\n",
        "\n",
        "- [Documentation main - PyTorch 공식 문서](https://pytorch.org/docs/stable/index.html)\n",
        "- [torch.add - PyTorch 공식 문서](https://pytorch.org/docs/stable/generated/torch.add.html?highlight=add#torch.add)"
      ]
    },
    {
      "cell_type": "code",
      "execution_count": null,
      "metadata": {
        "id": "KRRQb5w-jIgM",
        "colab": {
          "base_uri": "https://localhost:8080/"
        },
        "outputId": "e9c3dfb3-dcdd-46e2-bbc1-296ef6f1e636"
      },
      "outputs": [
        {
          "output_type": "stream",
          "name": "stdout",
          "text": [
            "🎉🎉🎉 성공!!! 🎉🎉🎉\n"
          ]
        }
      ],
      "source": [
        "import torch\n",
        "from torch import nn\n",
        "\n",
        "# TODO : Add 모델을 완성하세요!\n",
        "class Add(nn.Module):\n",
        "    def __init__(self):\n",
        "        super(Add, self).__init__()\n",
        "\n",
        "\n",
        "    def forward(self, x1, x2):\n",
        "        return torch.add(x1,x2)\n",
        "\n",
        "\n",
        "\n",
        "# 아래 코드는 수정하실 필요가 없습니다!\n",
        "x1 = torch.tensor([1])\n",
        "x2 = torch.tensor([2])\n",
        "\n",
        "add = Add()\n",
        "output = add(x1, x2)\n",
        "\n",
        "if output == 3:\n",
        "    print(\"🎉🎉🎉 성공!!! 🎉🎉🎉\")\n",
        "else:\n",
        "    print(\"🐙 다시 도전해봐요!\")"
      ]
    },
    {
      "cell_type": "markdown",
      "metadata": {
        "id": "9PolvX28jIgM"
      },
      "source": [
        "``` python\n",
        "🐙\n",
        "super를 통해서 init을 하는 것은 왜 그런걸까요?\n",
        "\n",
        "아래 링크의 글을 읽어보고 궁금증을 해결해 보아요!\n",
        "```\n",
        "\n",
        "**유용한 자료**\n",
        "- [Why is the super constructor necessary in PyTorch custom modules? - Stack Overflow](https://stackoverflow.com/questions/63058355/why-is-the-super-constructor-necessary-in-pytorch-custom-modules)"
      ]
    },
    {
      "cell_type": "markdown",
      "metadata": {
        "id": "DnkL-ABKjIgN"
      },
      "source": [
        "#### 👨‍💻 <font color='green'><b>[ 실습 ]</b></font> Module들의 흐름 느껴보기\n",
        "> 🐙 딥토가 코드를 작성해주었어요\n",
        "\n",
        "``` python\n",
        "🐙\n",
        "Module은 Module을 포함할 수 있다는 사실이 멋져요!\n",
        "\n",
        "- 최소의 기능 단위인 function\n",
        "- function들로 이루어진 layer\n",
        "- layer로 이루어진 model\n",
        "\n",
        "작은 부분부터 블럭을 하나씩 쌓고 또 쌓다보면 어느 순간\n",
        "우리는 거대한 딥러닝 모델이라는 멋진 탑을 볼 수 있어요!\n",
        "\n",
        "Module과 Module의 연결이 만들어내는 흐름을 느껴보세요!\n",
        "각 Module의 초기화는 어떤 순서로 되는지,\n",
        "언제 시작하고 끝나는지 천천히 생각해보세요!\n",
        "```\n"
      ]
    },
    {
      "cell_type": "code",
      "execution_count": null,
      "metadata": {
        "id": "L5jJIqzAjIgO",
        "colab": {
          "base_uri": "https://localhost:8080/"
        },
        "outputId": "40ccecb6-8160-4b41-c53a-1a48f1bd7d63"
      },
      "outputs": [
        {
          "output_type": "stream",
          "name": "stdout",
          "text": [
            "        Function A Initialized\n",
            "        Function B Initialized\n",
            "    Layer AB Initialized\n",
            "        Function C Initialized\n",
            "        Function D Initialized\n",
            "    Layer CD Initialized\n",
            "Model ABCD Initialized\n",
            "\n",
            "Model ABCD started\n",
            "    Layer AB started\n",
            "        Function A started\n",
            "        Function A done\n",
            "        Function B started\n",
            "        Function B done\n",
            "    Layer AB done\n",
            "    Layer CD started\n",
            "        Function C started\n",
            "        Function C done\n",
            "        Function D started\n",
            "        Function D done\n",
            "    Layer CD done\n",
            "Model ABCD done\n",
            "\n",
            "🎉🎉🎉 모든 딥러닝 모델은 이처럼 Module들이 쌓이고 쌓여서 만들어집니다! 🎉🎉🎉\n",
            "🎉🎉🎉 흐름을 느껴보시고 이 흐름이 이해가 되신 분은 다음으로 가시면 됩니다! 🎉🎉\n"
          ]
        }
      ],
      "source": [
        "import torch\n",
        "from torch import nn\n",
        "\n",
        "\n",
        "# Function\n",
        "class Function_A(nn.Module):\n",
        "    def __init__(self):\n",
        "        super().__init__()\n",
        "        print(f\"        Function A Initialized\")\n",
        "\n",
        "    def forward(self, x):\n",
        "        print(f\"        Function A started\")\n",
        "        print(f\"        Function A done\")\n",
        "\n",
        "class Function_B(nn.Module):\n",
        "    def __init__(self):\n",
        "        super().__init__()\n",
        "        print(f\"        Function B Initialized\")\n",
        "\n",
        "    def forward(self, x):\n",
        "        print(f\"        Function B started\")\n",
        "        print(f\"        Function B done\")\n",
        "\n",
        "class Function_C(nn.Module):\n",
        "    def __init__(self):\n",
        "        super().__init__()\n",
        "        print(f\"        Function C Initialized\")\n",
        "\n",
        "    def forward(self, x):\n",
        "        print(f\"        Function C started\")\n",
        "        print(f\"        Function C done\")\n",
        "\n",
        "class Function_D(nn.Module):\n",
        "    def __init__(self):\n",
        "        super().__init__()\n",
        "        print(f\"        Function D Initialized\")\n",
        "\n",
        "    def forward(self, x):\n",
        "        print(f\"        Function D started\")\n",
        "        print(f\"        Function D done\")\n",
        "\n",
        "\n",
        "# Layer\n",
        "class Layer_AB(nn.Module):\n",
        "    def __init__(self):\n",
        "        super().__init__()\n",
        "\n",
        "        self.a = Function_A()\n",
        "        self.b = Function_B()\n",
        "\n",
        "        print(f\"    Layer AB Initialized\")\n",
        "\n",
        "    def forward(self, x):\n",
        "        print(f\"    Layer AB started\")\n",
        "        self.a(x)\n",
        "        self.b(x)\n",
        "        print(f\"    Layer AB done\")\n",
        "\n",
        "class Layer_CD(nn.Module):\n",
        "    def __init__(self):\n",
        "        super().__init__()\n",
        "\n",
        "        self.c = Function_C()\n",
        "        self.d = Function_D()\n",
        "\n",
        "        print(f\"    Layer CD Initialized\")\n",
        "\n",
        "    def forward(self, x):\n",
        "        print(f\"    Layer CD started\")\n",
        "        self.c(x)\n",
        "        self.d(x)\n",
        "        print(f\"    Layer CD done\")\n",
        "\n",
        "\n",
        "# Model\n",
        "class Model(nn.Module):\n",
        "    def __init__(self):\n",
        "        super().__init__()\n",
        "\n",
        "        self.ab = Layer_AB()\n",
        "        self.cd = Layer_CD()\n",
        "\n",
        "        print(f\"Model ABCD Initialized\\n\")\n",
        "\n",
        "    def forward(self, x):\n",
        "        print(f\"Model ABCD started\")\n",
        "        self.ab(x)\n",
        "        self.cd(x)\n",
        "        print(f\"Model ABCD done\\n\")\n",
        "\n",
        "\n",
        "x = torch.tensor([7])\n",
        "\n",
        "model = Model()\n",
        "model(x)\n",
        "\n",
        "print(\"🎉🎉🎉 모든 딥러닝 모델은 이처럼 Module들이 쌓이고 쌓여서 만들어집니다! 🎉🎉🎉\")\n",
        "print(\"🎉🎉🎉 흐름을 느껴보시고 이 흐름이 이해가 되신 분은 다음으로 가시면 됩니다! 🎉🎉\")"
      ]
    },
    {
      "cell_type": "markdown",
      "metadata": {
        "id": "D0JmHrcIjIgP"
      },
      "source": [
        "##  Custom Dataset 및 DataLoader 생성\n"
      ]
    },
    {
      "cell_type": "markdown",
      "metadata": {
        "id": "H4AD_9X7jIgP"
      },
      "source": [
        "### Dataset의 기본 구성 요소\n",
        "---\n",
        "\n",
        "기본적으로 Dataset을 구성할 때는 PyTorch의 `torch.utils.data`에서 **`Dataset 클래스`를 상속**해서 만듭니다. 이렇게 생성된 Dataset 클래스는 크게 아래와 같이 3가지 메서드로 구성됩니다. `__init__` 메서드와 `__len__` 메서드와 마지막으로 `__getitem__` 메서드로 구성됩니다."
      ]
    },
    {
      "cell_type": "markdown",
      "metadata": {
        "id": "j20DgPwBjIgP"
      },
      "source": [
        "```python\n",
        "from torch.utils.data import Dataset\n",
        "\n",
        "class CustomDataset(Dataset):\n",
        "    def __init__(self,):\n",
        "        pass\n",
        "\n",
        "    def __len__(self):\n",
        "        pass\n",
        "    \n",
        "    def __getitem__(self, idx):\n",
        "        pass\n",
        "```"
      ]
    },
    {
      "cell_type": "markdown",
      "metadata": {
        "id": "bre1NQzmjIgQ"
      },
      "source": [
        "#### `__init__` 메서드\n",
        "일반적으로 해당 메서드에서는 데이터의 위치나 파일명과 같은 초기화 작업을 위해 동작합니다. 일반적으로 CSV파일이나 XML파일과 같은 데이터를 이때 불러옵니다. 이렇게 함으로서 모든 데이터를 메모리에 로드하지 않고 효율적으로 사용할 수 있습니다. 여기에 이미지를 처리할 transforms들을 Compose해서 정의해둡니다."
      ]
    },
    {
      "cell_type": "markdown",
      "metadata": {
        "id": "59IZnm0wjIgc"
      },
      "source": [
        "#### `__len__` 메서드\n",
        "해당 메서드는 Dataset의 최대 요소 수를 반환하는데 사용됩니다. 해당 메서드를 통해서 현재 불러오는 데이터의 인덱스가 적절한 범위 안에 있는지 확인할 수 있습니다."
      ]
    },
    {
      "cell_type": "markdown",
      "metadata": {
        "id": "TdzwsSLJjIgc"
      },
      "source": [
        "#### `__getitem__` 메서드\n",
        "해당 메서드는 데이터셋의 idx번째 데이터를 반환하는데 사용됩니다. 일반적으로 원본 데이터를 가져와서 전처리하고 데이터 증강하는 부분이 모두 여기에서 진행될 겁니다. 이는 이후 transform 하는 방법들에 대해서 간단히 알려드리겠습니다."
      ]
    },
    {
      "cell_type": "markdown",
      "metadata": {
        "id": "Mp85jvy4jIgd"
      },
      "source": [
        "#### 그 외 메서드\n",
        "추가적으로 학습시 Dataset에서 필요한만한 정보 (e.g. labels, target class) 를 가져오는 메서드를 정의하는 것과 같은 메서드를 정의해도 됩니다."
      ]
    },
    {
      "cell_type": "markdown",
      "metadata": {
        "id": "ke9t_NfejIgf"
      },
      "source": [
        "#### 👨‍💻 <font color='green'><b>[ 코딩 ]</b></font> iris Dataset 제작\n",
        "```python\n",
        "🐙\n",
        "Dataset의 개념에 대해서 위에서 알아보았어요!\n",
        "이제 scikit-learn에서 제공하는 붓꽃 데이터를 이용해서 간단한 Dataset을 만들어보아요!\n",
        "\n",
        "다음의 내용으로 만들어 보아요\n",
        "\n",
        "__init__메서드: 데이터를 불러오고 변수 X에는 feature를, 변수 y에는 target을 넣어주세요.\n",
        "__len__메서드: 데이터의 총 갯수를 반환해주세요.\n",
        "__getitem__메서드: idx가 주어질 때, X와 y를 반환해주세요.\n",
        "```"
      ]
    },
    {
      "cell_type": "markdown",
      "metadata": {
        "id": "2Zl0iy9ujIgg"
      },
      "source": [
        "```python\n",
        "🐙\n",
        "아래와 같은 표에서 한 행씩 반환해줄 수 있는 Dataset을 만들 예정이에요!\n",
        "```\n"
      ]
    },
    {
      "cell_type": "code",
      "execution_count": null,
      "metadata": {
        "id": "ivC9i3g0jIgg",
        "colab": {
          "base_uri": "https://localhost:8080/",
          "height": 424
        },
        "outputId": "cefe4196-7ffa-4a61-e208-50f3bb466f12"
      },
      "outputs": [
        {
          "output_type": "execute_result",
          "data": {
            "text/plain": [
              "     sepal length (cm)  sepal width (cm)  petal length (cm)  petal width (cm)  \\\n",
              "0                  5.1               3.5                1.4               0.2   \n",
              "1                  4.9               3.0                1.4               0.2   \n",
              "2                  4.7               3.2                1.3               0.2   \n",
              "3                  4.6               3.1                1.5               0.2   \n",
              "4                  5.0               3.6                1.4               0.2   \n",
              "..                 ...               ...                ...               ...   \n",
              "145                6.7               3.0                5.2               2.3   \n",
              "146                6.3               2.5                5.0               1.9   \n",
              "147                6.5               3.0                5.2               2.0   \n",
              "148                6.2               3.4                5.4               2.3   \n",
              "149                5.9               3.0                5.1               1.8   \n",
              "\n",
              "     target  \n",
              "0         0  \n",
              "1         0  \n",
              "2         0  \n",
              "3         0  \n",
              "4         0  \n",
              "..      ...  \n",
              "145       2  \n",
              "146       2  \n",
              "147       2  \n",
              "148       2  \n",
              "149       2  \n",
              "\n",
              "[150 rows x 5 columns]"
            ],
            "text/html": [
              "\n",
              "  <div id=\"df-02696694-3c76-4012-af8a-0690e8bec7c0\" class=\"colab-df-container\">\n",
              "    <div>\n",
              "<style scoped>\n",
              "    .dataframe tbody tr th:only-of-type {\n",
              "        vertical-align: middle;\n",
              "    }\n",
              "\n",
              "    .dataframe tbody tr th {\n",
              "        vertical-align: top;\n",
              "    }\n",
              "\n",
              "    .dataframe thead th {\n",
              "        text-align: right;\n",
              "    }\n",
              "</style>\n",
              "<table border=\"1\" class=\"dataframe\">\n",
              "  <thead>\n",
              "    <tr style=\"text-align: right;\">\n",
              "      <th></th>\n",
              "      <th>sepal length (cm)</th>\n",
              "      <th>sepal width (cm)</th>\n",
              "      <th>petal length (cm)</th>\n",
              "      <th>petal width (cm)</th>\n",
              "      <th>target</th>\n",
              "    </tr>\n",
              "  </thead>\n",
              "  <tbody>\n",
              "    <tr>\n",
              "      <th>0</th>\n",
              "      <td>5.1</td>\n",
              "      <td>3.5</td>\n",
              "      <td>1.4</td>\n",
              "      <td>0.2</td>\n",
              "      <td>0</td>\n",
              "    </tr>\n",
              "    <tr>\n",
              "      <th>1</th>\n",
              "      <td>4.9</td>\n",
              "      <td>3.0</td>\n",
              "      <td>1.4</td>\n",
              "      <td>0.2</td>\n",
              "      <td>0</td>\n",
              "    </tr>\n",
              "    <tr>\n",
              "      <th>2</th>\n",
              "      <td>4.7</td>\n",
              "      <td>3.2</td>\n",
              "      <td>1.3</td>\n",
              "      <td>0.2</td>\n",
              "      <td>0</td>\n",
              "    </tr>\n",
              "    <tr>\n",
              "      <th>3</th>\n",
              "      <td>4.6</td>\n",
              "      <td>3.1</td>\n",
              "      <td>1.5</td>\n",
              "      <td>0.2</td>\n",
              "      <td>0</td>\n",
              "    </tr>\n",
              "    <tr>\n",
              "      <th>4</th>\n",
              "      <td>5.0</td>\n",
              "      <td>3.6</td>\n",
              "      <td>1.4</td>\n",
              "      <td>0.2</td>\n",
              "      <td>0</td>\n",
              "    </tr>\n",
              "    <tr>\n",
              "      <th>...</th>\n",
              "      <td>...</td>\n",
              "      <td>...</td>\n",
              "      <td>...</td>\n",
              "      <td>...</td>\n",
              "      <td>...</td>\n",
              "    </tr>\n",
              "    <tr>\n",
              "      <th>145</th>\n",
              "      <td>6.7</td>\n",
              "      <td>3.0</td>\n",
              "      <td>5.2</td>\n",
              "      <td>2.3</td>\n",
              "      <td>2</td>\n",
              "    </tr>\n",
              "    <tr>\n",
              "      <th>146</th>\n",
              "      <td>6.3</td>\n",
              "      <td>2.5</td>\n",
              "      <td>5.0</td>\n",
              "      <td>1.9</td>\n",
              "      <td>2</td>\n",
              "    </tr>\n",
              "    <tr>\n",
              "      <th>147</th>\n",
              "      <td>6.5</td>\n",
              "      <td>3.0</td>\n",
              "      <td>5.2</td>\n",
              "      <td>2.0</td>\n",
              "      <td>2</td>\n",
              "    </tr>\n",
              "    <tr>\n",
              "      <th>148</th>\n",
              "      <td>6.2</td>\n",
              "      <td>3.4</td>\n",
              "      <td>5.4</td>\n",
              "      <td>2.3</td>\n",
              "      <td>2</td>\n",
              "    </tr>\n",
              "    <tr>\n",
              "      <th>149</th>\n",
              "      <td>5.9</td>\n",
              "      <td>3.0</td>\n",
              "      <td>5.1</td>\n",
              "      <td>1.8</td>\n",
              "      <td>2</td>\n",
              "    </tr>\n",
              "  </tbody>\n",
              "</table>\n",
              "<p>150 rows × 5 columns</p>\n",
              "</div>\n",
              "    <div class=\"colab-df-buttons\">\n",
              "\n",
              "  <div class=\"colab-df-container\">\n",
              "    <button class=\"colab-df-convert\" onclick=\"convertToInteractive('df-02696694-3c76-4012-af8a-0690e8bec7c0')\"\n",
              "            title=\"Convert this dataframe to an interactive table.\"\n",
              "            style=\"display:none;\">\n",
              "\n",
              "  <svg xmlns=\"http://www.w3.org/2000/svg\" height=\"24px\" viewBox=\"0 -960 960 960\">\n",
              "    <path d=\"M120-120v-720h720v720H120Zm60-500h600v-160H180v160Zm220 220h160v-160H400v160Zm0 220h160v-160H400v160ZM180-400h160v-160H180v160Zm440 0h160v-160H620v160ZM180-180h160v-160H180v160Zm440 0h160v-160H620v160Z\"/>\n",
              "  </svg>\n",
              "    </button>\n",
              "\n",
              "  <style>\n",
              "    .colab-df-container {\n",
              "      display:flex;\n",
              "      gap: 12px;\n",
              "    }\n",
              "\n",
              "    .colab-df-convert {\n",
              "      background-color: #E8F0FE;\n",
              "      border: none;\n",
              "      border-radius: 50%;\n",
              "      cursor: pointer;\n",
              "      display: none;\n",
              "      fill: #1967D2;\n",
              "      height: 32px;\n",
              "      padding: 0 0 0 0;\n",
              "      width: 32px;\n",
              "    }\n",
              "\n",
              "    .colab-df-convert:hover {\n",
              "      background-color: #E2EBFA;\n",
              "      box-shadow: 0px 1px 2px rgba(60, 64, 67, 0.3), 0px 1px 3px 1px rgba(60, 64, 67, 0.15);\n",
              "      fill: #174EA6;\n",
              "    }\n",
              "\n",
              "    .colab-df-buttons div {\n",
              "      margin-bottom: 4px;\n",
              "    }\n",
              "\n",
              "    [theme=dark] .colab-df-convert {\n",
              "      background-color: #3B4455;\n",
              "      fill: #D2E3FC;\n",
              "    }\n",
              "\n",
              "    [theme=dark] .colab-df-convert:hover {\n",
              "      background-color: #434B5C;\n",
              "      box-shadow: 0px 1px 3px 1px rgba(0, 0, 0, 0.15);\n",
              "      filter: drop-shadow(0px 1px 2px rgba(0, 0, 0, 0.3));\n",
              "      fill: #FFFFFF;\n",
              "    }\n",
              "  </style>\n",
              "\n",
              "    <script>\n",
              "      const buttonEl =\n",
              "        document.querySelector('#df-02696694-3c76-4012-af8a-0690e8bec7c0 button.colab-df-convert');\n",
              "      buttonEl.style.display =\n",
              "        google.colab.kernel.accessAllowed ? 'block' : 'none';\n",
              "\n",
              "      async function convertToInteractive(key) {\n",
              "        const element = document.querySelector('#df-02696694-3c76-4012-af8a-0690e8bec7c0');\n",
              "        const dataTable =\n",
              "          await google.colab.kernel.invokeFunction('convertToInteractive',\n",
              "                                                    [key], {});\n",
              "        if (!dataTable) return;\n",
              "\n",
              "        const docLinkHtml = 'Like what you see? Visit the ' +\n",
              "          '<a target=\"_blank\" href=https://colab.research.google.com/notebooks/data_table.ipynb>data table notebook</a>'\n",
              "          + ' to learn more about interactive tables.';\n",
              "        element.innerHTML = '';\n",
              "        dataTable['output_type'] = 'display_data';\n",
              "        await google.colab.output.renderOutput(dataTable, element);\n",
              "        const docLink = document.createElement('div');\n",
              "        docLink.innerHTML = docLinkHtml;\n",
              "        element.appendChild(docLink);\n",
              "      }\n",
              "    </script>\n",
              "  </div>\n",
              "\n",
              "\n",
              "<div id=\"df-c17b10d9-3241-404b-aee2-687a7f7a4d4b\">\n",
              "  <button class=\"colab-df-quickchart\" onclick=\"quickchart('df-c17b10d9-3241-404b-aee2-687a7f7a4d4b')\"\n",
              "            title=\"Suggest charts.\"\n",
              "            style=\"display:none;\">\n",
              "\n",
              "<svg xmlns=\"http://www.w3.org/2000/svg\" height=\"24px\"viewBox=\"0 0 24 24\"\n",
              "     width=\"24px\">\n",
              "    <g>\n",
              "        <path d=\"M19 3H5c-1.1 0-2 .9-2 2v14c0 1.1.9 2 2 2h14c1.1 0 2-.9 2-2V5c0-1.1-.9-2-2-2zM9 17H7v-7h2v7zm4 0h-2V7h2v10zm4 0h-2v-4h2v4z\"/>\n",
              "    </g>\n",
              "</svg>\n",
              "  </button>\n",
              "\n",
              "<style>\n",
              "  .colab-df-quickchart {\n",
              "      --bg-color: #E8F0FE;\n",
              "      --fill-color: #1967D2;\n",
              "      --hover-bg-color: #E2EBFA;\n",
              "      --hover-fill-color: #174EA6;\n",
              "      --disabled-fill-color: #AAA;\n",
              "      --disabled-bg-color: #DDD;\n",
              "  }\n",
              "\n",
              "  [theme=dark] .colab-df-quickchart {\n",
              "      --bg-color: #3B4455;\n",
              "      --fill-color: #D2E3FC;\n",
              "      --hover-bg-color: #434B5C;\n",
              "      --hover-fill-color: #FFFFFF;\n",
              "      --disabled-bg-color: #3B4455;\n",
              "      --disabled-fill-color: #666;\n",
              "  }\n",
              "\n",
              "  .colab-df-quickchart {\n",
              "    background-color: var(--bg-color);\n",
              "    border: none;\n",
              "    border-radius: 50%;\n",
              "    cursor: pointer;\n",
              "    display: none;\n",
              "    fill: var(--fill-color);\n",
              "    height: 32px;\n",
              "    padding: 0;\n",
              "    width: 32px;\n",
              "  }\n",
              "\n",
              "  .colab-df-quickchart:hover {\n",
              "    background-color: var(--hover-bg-color);\n",
              "    box-shadow: 0 1px 2px rgba(60, 64, 67, 0.3), 0 1px 3px 1px rgba(60, 64, 67, 0.15);\n",
              "    fill: var(--button-hover-fill-color);\n",
              "  }\n",
              "\n",
              "  .colab-df-quickchart-complete:disabled,\n",
              "  .colab-df-quickchart-complete:disabled:hover {\n",
              "    background-color: var(--disabled-bg-color);\n",
              "    fill: var(--disabled-fill-color);\n",
              "    box-shadow: none;\n",
              "  }\n",
              "\n",
              "  .colab-df-spinner {\n",
              "    border: 2px solid var(--fill-color);\n",
              "    border-color: transparent;\n",
              "    border-bottom-color: var(--fill-color);\n",
              "    animation:\n",
              "      spin 1s steps(1) infinite;\n",
              "  }\n",
              "\n",
              "  @keyframes spin {\n",
              "    0% {\n",
              "      border-color: transparent;\n",
              "      border-bottom-color: var(--fill-color);\n",
              "      border-left-color: var(--fill-color);\n",
              "    }\n",
              "    20% {\n",
              "      border-color: transparent;\n",
              "      border-left-color: var(--fill-color);\n",
              "      border-top-color: var(--fill-color);\n",
              "    }\n",
              "    30% {\n",
              "      border-color: transparent;\n",
              "      border-left-color: var(--fill-color);\n",
              "      border-top-color: var(--fill-color);\n",
              "      border-right-color: var(--fill-color);\n",
              "    }\n",
              "    40% {\n",
              "      border-color: transparent;\n",
              "      border-right-color: var(--fill-color);\n",
              "      border-top-color: var(--fill-color);\n",
              "    }\n",
              "    60% {\n",
              "      border-color: transparent;\n",
              "      border-right-color: var(--fill-color);\n",
              "    }\n",
              "    80% {\n",
              "      border-color: transparent;\n",
              "      border-right-color: var(--fill-color);\n",
              "      border-bottom-color: var(--fill-color);\n",
              "    }\n",
              "    90% {\n",
              "      border-color: transparent;\n",
              "      border-bottom-color: var(--fill-color);\n",
              "    }\n",
              "  }\n",
              "</style>\n",
              "\n",
              "  <script>\n",
              "    async function quickchart(key) {\n",
              "      const quickchartButtonEl =\n",
              "        document.querySelector('#' + key + ' button');\n",
              "      quickchartButtonEl.disabled = true;  // To prevent multiple clicks.\n",
              "      quickchartButtonEl.classList.add('colab-df-spinner');\n",
              "      try {\n",
              "        const charts = await google.colab.kernel.invokeFunction(\n",
              "            'suggestCharts', [key], {});\n",
              "      } catch (error) {\n",
              "        console.error('Error during call to suggestCharts:', error);\n",
              "      }\n",
              "      quickchartButtonEl.classList.remove('colab-df-spinner');\n",
              "      quickchartButtonEl.classList.add('colab-df-quickchart-complete');\n",
              "    }\n",
              "    (() => {\n",
              "      let quickchartButtonEl =\n",
              "        document.querySelector('#df-c17b10d9-3241-404b-aee2-687a7f7a4d4b button');\n",
              "      quickchartButtonEl.style.display =\n",
              "        google.colab.kernel.accessAllowed ? 'block' : 'none';\n",
              "    })();\n",
              "  </script>\n",
              "</div>\n",
              "    </div>\n",
              "  </div>\n"
            ]
          },
          "metadata": {},
          "execution_count": 11
        }
      ],
      "source": [
        "from sklearn.datasets import load_iris\n",
        "import pandas as pd\n",
        "\n",
        "iris = load_iris()\n",
        "iris_df = pd.DataFrame(iris['data'], columns=iris['feature_names'])\n",
        "iris_df['target'] = iris['target']\n",
        "iris_df"
      ]
    },
    {
      "cell_type": "markdown",
      "metadata": {
        "id": "P7xHtF8EjIgh"
      },
      "source": [
        "```python\n",
        "🐙\n",
        "아래의 `IrisDataset`을 완성시켜주세요.\n",
        "```"
      ]
    },
    {
      "cell_type": "code",
      "execution_count": null,
      "metadata": {
        "id": "asfuRnRBjIgh"
      },
      "outputs": [],
      "source": [
        "from torch.utils.data import Dataset\n",
        "\n",
        "class IrisDataset(Dataset):\n",
        "    def __init__(self):\n",
        "        iris = load_iris()\n",
        "\n",
        "        self.data = torch.tensor(iris.data, dtype=torch.float32)\n",
        "        self.targets = torch.tensor(iris.target, dtype=torch.int64)\n",
        "        self.feature_names = iris.feature_names\n",
        "        self.target_names = iris.target_names\n",
        "\n",
        "        self.feature_names = iris['feature_names']\n",
        "        self.target_names = iris['target_names']\n",
        "\n",
        "    def __len__(self):\n",
        "        len_dataset = None\n",
        "        len_dataset=len(self.data)\n",
        "        return len_dataset\n",
        "\n",
        "    def __getitem__(self, idx):\n",
        "        X, y = None, None\n",
        "\n",
        "        X = self.data[idx]\n",
        "        y = self.targets[idx]\n",
        "\n",
        "        return X, y"
      ]
    },
    {
      "cell_type": "markdown",
      "metadata": {
        "id": "avRfYS2ljIgi"
      },
      "source": [
        "```python\n",
        "🐙\n",
        "아마도 여러분께서 과제를 해결하셨다면 아래의 예제를 계속해서 따라갈 수 있을거에요!\n",
        "```"
      ]
    },
    {
      "cell_type": "code",
      "execution_count": null,
      "metadata": {
        "id": "sElSvmgNjIgj"
      },
      "outputs": [],
      "source": [
        "dataset_iris = IrisDataset()"
      ]
    },
    {
      "cell_type": "markdown",
      "metadata": {
        "id": "rstoExWKjIgj"
      },
      "source": [
        "```python\n",
        "🐙\n",
        "현재 150개의 데이터를 확인할 수 있어요.\n",
        "```"
      ]
    },
    {
      "cell_type": "code",
      "execution_count": null,
      "metadata": {
        "id": "3TDEblH8jIgk"
      },
      "outputs": [],
      "source": [
        "len(dataset_iris)"
      ]
    },
    {
      "cell_type": "markdown",
      "metadata": {
        "id": "UJ4QGkUljIgk"
      },
      "source": [
        "```python\n",
        "🐙\n",
        "직접 인덱스로 접근해서 첫번째 데이터를 가져와보아요. `__getitem__`메서드를 통해서 나온 X와 y값이 잘 나온 것을 확인할 수 있어요.\n",
        "```\n"
      ]
    },
    {
      "cell_type": "code",
      "execution_count": null,
      "metadata": {
        "id": "2EJBRbT7jIgl"
      },
      "outputs": [],
      "source": [
        "dataset_iris[0]"
      ]
    },
    {
      "cell_type": "markdown",
      "metadata": {
        "id": "q4WXj9B1jIgl"
      },
      "source": [
        "간단하게 IrisDataset으로 시각화도 진행해볼까요?"
      ]
    },
    {
      "cell_type": "code",
      "execution_count": null,
      "metadata": {
        "id": "r1Dll6fqjIgl"
      },
      "outputs": [],
      "source": [
        "import matplotlib.pyplot as plt\n",
        "\n",
        "plt.figure(figsize=(12,8))\n",
        "colors = ['r','g','b']\n",
        "for n, c in enumerate(dataset_iris.y):\n",
        "    plt.scatter(dataset_iris.X[n,0], dataset_iris.X[n,1], color=colors[c])\n",
        "plt.title('Relationship between {} and {}'.format(dataset_iris.feature_names[0],\n",
        "                                                  dataset_iris.feature_names[1]))\n",
        "plt.grid(True)\n",
        "plt.show()"
      ]
    },
    {
      "cell_type": "markdown",
      "metadata": {
        "id": "dGSOFlE7jIgm"
      },
      "source": [
        "### DataLoader의 기본 구성 요소\n",
        "---\n",
        "Dataloader는 모델 학습을 위해서 데이터를 미니 배치(Mini batch)단위로 제공해주는 역할을 합니다. [PyTorch Documentations](https://pytorch.org/docs/stable/data.html)을 확인해보면 아래와 같이 `DataLoader`가 정의되어 있는 걸 확인할 수 있습니다. 여기서 dataset은 앞서 우리가 만든 `Dataset`을 인자로 넣어주시면 됩니다! 보통 `batch_size`나 `num_workers`와 같은 인자를 주로 사용할겁니다!\n",
        "\n",
        "```python\n",
        "DataLoader(dataset, batch_size=1, shuffle=False, sampler=None,\n",
        "           batch_sampler=None, num_workers=0, collate_fn=None,\n",
        "           pin_memory=False, drop_last=False, timeout=0,\n",
        "           worker_init_fn=None)\n",
        "```"
      ]
    },
    {
      "cell_type": "code",
      "execution_count": null,
      "metadata": {
        "id": "9DmsYU5hjIgm"
      },
      "outputs": [],
      "source": [
        "from torch.utils.data import DataLoader"
      ]
    },
    {
      "cell_type": "markdown",
      "metadata": {
        "id": "4qaEKRW8jIgn"
      },
      "source": [
        "#### dataset\n",
        "DataLoader에는 앞서 생성한 Dataset 인스턴스가 들어갑니다."
      ]
    },
    {
      "cell_type": "code",
      "execution_count": null,
      "metadata": {
        "id": "IIZB-b0YjIgn"
      },
      "outputs": [],
      "source": [
        "next(iter(DataLoader(dataset_iris)))"
      ]
    },
    {
      "cell_type": "markdown",
      "metadata": {
        "id": "t88a3VyBjIgo"
      },
      "source": [
        "#### batch_size\n",
        "인자가 나타내고 있는 뜻 그대로 배치 사이즈를 의미합니다. <br>\n",
        "전체 트레이닝 데이터 셋을 여러 작은 그룹을 나누었을 때 batch size는 하나의 소그룹에 속하는 데이터 수를 의미합니다."
      ]
    },
    {
      "cell_type": "code",
      "execution_count": null,
      "metadata": {
        "id": "2WNRbRDIjIgo"
      },
      "outputs": [],
      "source": [
        "next(iter(DataLoader(dataset_iris, batch_size=4)))"
      ]
    },
    {
      "cell_type": "markdown",
      "metadata": {
        "id": "1pFDwrwujIgo"
      },
      "source": [
        "#### shuffle\n",
        "데이터를 DataLoader에서 섞어서 사용하겠는지를 설정할 수 있습니다. 앞선 경우와 다르게 데이터가 섞인 것을 확인하실 수 있습니다."
      ]
    },
    {
      "cell_type": "code",
      "execution_count": null,
      "metadata": {
        "id": "f3Q4xkzujIgp"
      },
      "outputs": [],
      "source": [
        "next(iter(DataLoader(dataset_iris, shuffle=True, batch_size=4)))"
      ]
    },
    {
      "cell_type": "markdown",
      "metadata": {
        "id": "79POJRkWjIgp"
      },
      "source": [
        "#### num_workers\n",
        "데이터를 불러올때 사용하는 서브 프로세스(subprocess) 개수입니다. 기존 데이터셋보다 훨씬 큰 데이터셋을 생성해봅시다.\n",
        "\n",
        "(참고로 윈도우에서는 멀티프로세서의 제한 때문에 num worker의 수가 0이상인 경우 에러가 발생합니다.)"
      ]
    },
    {
      "cell_type": "code",
      "execution_count": null,
      "metadata": {
        "id": "D6mAosycjIgp"
      },
      "outputs": [],
      "source": [
        "class RandomDataset(Dataset):\n",
        "    def __init__(self, tot_len=10, n_features=1):\n",
        "        self.X = torch.rand((tot_len, n_features))\n",
        "        self.y = torch.randint(0, 3, size=(tot_len, ))\n",
        "\n",
        "    def __len__(self):\n",
        "        return len(self.X)\n",
        "\n",
        "    def __getitem__(self, idx):\n",
        "        x = torch.FloatTensor(self.X[idx])\n",
        "        y = self.y[idx]\n",
        "        return x, y"
      ]
    },
    {
      "cell_type": "code",
      "execution_count": null,
      "metadata": {
        "id": "rv1YU59bjIgq"
      },
      "outputs": [],
      "source": [
        "dataset_big_random = RandomDataset(tot_len=5000)  # 점점 큰 값을 설정해보시면 더욱 확실히 체감되실 겁니다!"
      ]
    },
    {
      "cell_type": "code",
      "execution_count": null,
      "metadata": {
        "id": "pzVDo_a4jIgq"
      },
      "outputs": [],
      "source": [
        "%%time\n",
        "for data, label in DataLoader(dataset_big_random, num_workers=1):\n",
        "    pass"
      ]
    },
    {
      "cell_type": "code",
      "execution_count": null,
      "metadata": {
        "id": "lfeCOhBJjIgq"
      },
      "outputs": [],
      "source": [
        "%%time\n",
        "for data, label in DataLoader(dataset_big_random, num_workers=4):\n",
        "    pass"
      ]
    },
    {
      "cell_type": "markdown",
      "metadata": {
        "id": "UiYMgwDZjIgr"
      },
      "source": [
        "> <font color='red'><b>HINT</b></font>: 무작정 `num_workers`를 높인다고 좋진 않습니다! 데이터를 불러 CPU와 GPU 사이에서 많은 교류가 일어나면 오히려 `병목`이 생길 수 있습니다. [참고](https://jybaek.tistory.com/799)\n",
        "\n",
        "<img src=\"https://blog.kakaocdn.net/dn/EzN5Y/btqDZZCZt0G/ct7x36U2cg6iFx7W0eC9U0/img.png\" width=50%>\n",
        "<a href='https://deepinsight.tistory.com/106'><div align='center'>이미지 출처: Steve-Lee's Deep Insight 티스토리 블로그</div></a>"
      ]
    },
    {
      "cell_type": "markdown",
      "metadata": {
        "id": "M2IDA9lEjIgr"
      },
      "source": [
        "#### drop_last\n",
        "batch 단위로 데이터를 불러온다면, batch_size에 따라 마지막 batch의 길이가 달라질 수 있습니다. batch의 길이가 다른 경우에 따라 loss를 구하기 귀찮은 경우가 생기고, batch의 크기에 따른 의존도 높은 함수를 사용할 때 걱정이 되는 경우 마지막 batch를 사용하지 않을 수 있습니다."
      ]
    },
    {
      "cell_type": "code",
      "execution_count": null,
      "metadata": {
        "id": "gA2m8cJyjIgr"
      },
      "outputs": [],
      "source": [
        "dataset_random = RandomDataset(tot_len=10)"
      ]
    },
    {
      "cell_type": "code",
      "execution_count": null,
      "metadata": {
        "id": "CMENV-1ujIgs"
      },
      "outputs": [],
      "source": [
        "for data, label in DataLoader(dataset_random, num_workers=1, batch_size=4):\n",
        "    print(len(data))"
      ]
    },
    {
      "cell_type": "markdown",
      "metadata": {
        "id": "fpSMvXTMjIgs"
      },
      "source": [
        "drop_last가 `True`값으로 설정할 경우, 마지막 배치(2)가 생략되는 걸 확인하실 수 있습니다."
      ]
    },
    {
      "cell_type": "code",
      "execution_count": null,
      "metadata": {
        "id": "nO7Sus9vjIgs"
      },
      "outputs": [],
      "source": [
        "for data, label in DataLoader(dataset_random, num_workers=1, batch_size=4, drop_last=True):\n",
        "    print(len(data))"
      ]
    },
    {
      "cell_type": "markdown",
      "metadata": {
        "id": "gTUc1IUwjIgs"
      },
      "source": [
        "### torchvision에서 제공하는 몇가지 transform 함수\n",
        "---\n",
        "transform을 하는 이유가 뭘까요? 딥러닝 학습을 위해선 고정된 입력값이 보장되어야 합니다. 하지만 수집한 모든 데이터의 크기가 동일하지 않을수도 있습니다. 가령 이미지의 같은 경우, 정사각형 형태의 이미지가 있는 반면에 직사각형 형태의 이미지가 있을 수 있죠. PyTorch에서는 특히 이미지의 경우, 이를 위해서 이미지를 Resize하는 함수 등을 제공합니다."
      ]
    },
    {
      "cell_type": "code",
      "execution_count": 27,
      "metadata": {
        "id": "YWeMtsDijIgt"
      },
      "outputs": [],
      "source": [
        "from torchvision import transforms\n",
        "from PIL import Image\n",
        "import requests"
      ]
    },
    {
      "cell_type": "code",
      "execution_count": null,
      "metadata": {
        "id": "qWQmY7QujIgt"
      },
      "outputs": [],
      "source": [
        "url = 'https://github.com/Pjunn/GDSC_mlstudy/blob/main/2%EC%A3%BC%EC%B0%A8/ex_image1.jpg?raw=true'\n",
        "im = Image.open(requests.get(url, stream=True).raw)  # torchvision은 항상 PIL 객체로 받아야합니다!\n",
        "im"
      ]
    },
    {
      "cell_type": "markdown",
      "metadata": {
        "id": "uehgPNXtjIgu"
      },
      "source": [
        "#### transforms.[Resize](https://pytorch.org/vision/stable/transforms.html#torchvision.transforms.Resize)\n",
        "영어 단어에서 유추할 수 있는 그대로 이미지의 사이즈를 변환합니다.\n",
        "```python\n",
        "torchvision.transforms.Resize(size,\n",
        "                              interpolation=<InterpolationMode.BILINEAR: 'bilinear'>,\n",
        "                              max_size=None,\n",
        "                              antialias=None)\n",
        "```"
      ]
    },
    {
      "cell_type": "code",
      "execution_count": null,
      "metadata": {
        "id": "oLKeOi--jIgv"
      },
      "outputs": [],
      "source": [
        "transforms.Resize((200,200))(im)"
      ]
    },
    {
      "cell_type": "markdown",
      "metadata": {
        "id": "oWZYVOB0jIgv"
      },
      "source": [
        "#### transforms.[RandomCrop](https://pytorch.org/vision/stable/transforms.html#torchvision.transforms.RandomCrop)\n",
        "지정된 이미지를 임의의 위치에서 자릅니다.\n",
        "\n",
        "```python\n",
        "torchvision.transforms.RandomCrop(size,\n",
        "                                  padding=None,\n",
        "                                  pad_if_needed=False,\n",
        "                                  fill=0,\n",
        "                                  padding_mode='constant')\n",
        "```"
      ]
    },
    {
      "cell_type": "code",
      "execution_count": null,
      "metadata": {
        "id": "9DoBprBIjIgw"
      },
      "outputs": [],
      "source": [
        "transforms.RandomCrop((100,100))(im)"
      ]
    },
    {
      "cell_type": "markdown",
      "metadata": {
        "id": "WUt19PlXjIgw"
      },
      "source": [
        "####  transforms.[RandomRotation](https://pytorch.org/vision/stable/transforms.html#torchvision.transforms.RandomRotation)\n",
        "주어진 이미지를 임의의 각도만큼 회전시킵니다.\n",
        "\n",
        "```python\n",
        "torchvision.transforms.RandomRotation(degrees,\n",
        "                                      interpolation=<InterpolationMode.NEAREST: 'nearest'>,\n",
        "                                      expand=False,\n",
        "                                      center=None,\n",
        "                                      fill=0,\n",
        "                                      resample=None)\n",
        "```"
      ]
    },
    {
      "cell_type": "code",
      "execution_count": null,
      "metadata": {
        "id": "U2UnDT1RjIgx"
      },
      "outputs": [],
      "source": [
        "transforms.RandomRotation(30)(im)"
      ]
    },
    {
      "cell_type": "markdown",
      "metadata": {
        "id": "OeReDoSJjIgx"
      },
      "source": [
        "#### 👨‍💻 <font color='green'><b>[ 코딩 ]</b></font> transform 함수 제작\n",
        "```python\n",
        "🐙\n",
        "위에서 배운 torchvision의 transform를 응용하여 아래의 조건에 맞게끔 변환해 보아요.\n",
        "\n",
        "다음의 내용으로 만들어 보아요!\n",
        "\n",
        "(1) 이미지의 사이즈를 (224,224)로 변환해주세요.(Resize)\n",
        "(2) 앞서 변환된 이미지를 수평선을 기준으로 상하로 뒤집어주세요.(RandomVerticalFlip)\n",
        "(3) 앞서 변환된 이미지에서 중간 부분을 가로, 세로를 150만큼 잘라내어 주세요.(CenterCrop)\n",
        "```"
      ]
    },
    {
      "cell_type": "code",
      "execution_count": 21,
      "metadata": {
        "id": "a6TrcGZbjIgy"
      },
      "outputs": [],
      "source": [
        "def get_transforms_img(im):\n",
        "    transform = transforms.Compose([\n",
        "        transforms.Resize((224, 224)),\n",
        "\n",
        "        transforms.RandomVerticalFlip(),\n",
        "\n",
        "        transforms.CenterCrop(150)\n",
        "    ])\n",
        "\n",
        "    im = transform(im)\n",
        "    return im"
      ]
    },
    {
      "cell_type": "code",
      "execution_count": null,
      "metadata": {
        "id": "z0lSgo9sjIgy"
      },
      "outputs": [],
      "source": [
        "get_transforms_img(im)"
      ]
    },
    {
      "cell_type": "markdown",
      "metadata": {
        "id": "s9ji4y_pjIgz"
      },
      "source": [
        "#### transforms.ToTensor"
      ]
    },
    {
      "cell_type": "code",
      "execution_count": null,
      "metadata": {
        "id": "iHmdiQGCjIgz"
      },
      "outputs": [],
      "source": [
        "transforms.ToTensor()(im)"
      ]
    },
    {
      "cell_type": "markdown",
      "metadata": {
        "id": "YUZYQ-6AjIgz"
      },
      "source": [
        "> <font color='red'><b>HINT</b></font>: 항상 PIL로 불러올 필요는 없습니다. `ToPILImage` 메서드를 이용하면 바로 array 스타일에서 불러올 수 있습니다."
      ]
    },
    {
      "cell_type": "code",
      "execution_count": null,
      "metadata": {
        "id": "qrzAnNbejIgz"
      },
      "outputs": [],
      "source": [
        "im_arr = torch.rand((3, 224, 224))  # cv.imread나 plt.imread 와 같은 함수와 같이 쓰임\n",
        "im_pil = transforms.ToPILImage()(im_arr)\n",
        "im_pil"
      ]
    },
    {
      "cell_type": "markdown",
      "metadata": {
        "id": "NhEFpXBljIg0"
      },
      "source": [
        "#### 여러 transforms을 한꺼번에! Compose\n",
        "\n",
        "사실 위 과제처럼 굳이 함수를 만들어서 처리할 필요 없습니다. torchvision에서는 Compose라는 함수를 통해서 여러 transforms들을 하나로 묶어서 처리해줄 수 있습니다."
      ]
    },
    {
      "cell_type": "code",
      "execution_count": null,
      "metadata": {
        "id": "VlZzZFQxjIg0"
      },
      "outputs": [],
      "source": [
        "transforms.Compose([transforms.Resize((224,224)),\n",
        "                    transforms.RandomVerticalFlip(0.5),\n",
        "                    transforms.CenterCrop(150)])(im)"
      ]
    },
    {
      "cell_type": "markdown",
      "metadata": {
        "id": "8hSDpwVRjIg1"
      },
      "source": [
        "#### 그 외 여러가지 transforms\n",
        "\n",
        "앞서 소개드린 transforms 이외에도 정말 많은 transforms이 있습니다. 아래와 같이 수많은 transforms들이 있으니 한번 확인해보세요!"
      ]
    },
    {
      "cell_type": "code",
      "execution_count": null,
      "metadata": {
        "id": "k-HSc-EfjIg1"
      },
      "outputs": [],
      "source": [
        "dir(transforms)"
      ]
    },
    {
      "cell_type": "markdown",
      "metadata": {
        "id": "tii73uyHjIg1"
      },
      "source": [
        "> <font color='red'><b>HINT</b></font>: 물론 torchvision에서 제공하는 transform 이외에도 [albumentations](https://github.com/albumentations-team/albumentations)과 같이 다양한 transform을 제공하는 라이브러리가 많습니다!  \n",
        "\n",
        "<img src=\"https://camo.githubusercontent.com/3bb6e4bb500d96ad7bb4e4047af22a63ddf3242a894adf55ebffd3e184e4d113/68747470733a2f2f686162726173746f726167652e6f72672f776562742f62642f6e652f72762f62646e6572763563746b75646d73617a6e687734637273646669772e6a706567\">"
      ]
    },
    {
      "cell_type": "markdown",
      "metadata": {
        "id": "c-mZBQ_8jIg2"
      },
      "source": [
        "### 🎉🎉🎉 2주차 과제 완료! 🎉🎉🎉\n",
        "```python\n",
        "🐙\n",
        "여기까지 오다니 정말 믿기지 않아요!\n",
        "PyTorch에 대해서 아무것도 몰랐던 제가 이제는 원하는 모델을 만들 수 있게 되었어요!\n",
        "아직 배울 것이 많다는 것은 알고 있지만 그래도 너무 기뻐요!\n",
        "여러분도 수고 했어요!!\n",
        "```"
      ]
    }
  ],
  "metadata": {
    "kernelspec": {
      "display_name": "base",
      "language": "python",
      "name": "python3"
    },
    "language_info": {
      "name": "python",
      "version": "3.10.9"
    },
    "orig_nbformat": 4,
    "colab": {
      "provenance": []
    }
  },
  "nbformat": 4,
  "nbformat_minor": 0
}