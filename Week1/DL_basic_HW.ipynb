{
  "cells": [
    {
      "cell_type": "markdown",
      "metadata": {
        "id": "up_cFwynTyiU"
      },
      "source": [
        "# Deep Learning basic 과제\n",
        "> 인공지능 스터디 첫 번째 과제에 오신 것을 환영합니다! DL basic 강의를 들으면서 배운 다양한 지식들을 실습을 통해서 활용해볼 시간을 가질 것입니다!"
      ]
    },
    {
      "cell_type": "markdown",
      "metadata": {
        "id": "xLKrobH1TyiY"
      },
      "source": [
        "## 🐙 과제를 함께할 친구 제법 똑똑한 문어 - 딥토\n",
        "> 딥토는 이제 갓 딥러닝를 시작해서 궁금한게 매우 많고 열정이 넘쳐요!\n",
        "\n",
        "```python\n",
        "🐙\n",
        "반가워요! 딥러닝를 함께 공부하게 된 딥토라고 해요!\n",
        "딥러닝이 무엇인지 늘 궁금했었는데 이번에 공부하게 되어 너무 기뻐요!\n",
        "```\n",
        "```python\n",
        "😊\n",
        "물론이죠! 함께 열심히 공부해봐요!\n",
        "```"
      ]
    },
    {
      "cell_type": "markdown",
      "metadata": {
        "id": "AOdKk2SETyiY"
      },
      "source": [
        "\n",
        "```python\n",
        "🐙\n",
        "퀴즈를 통해서 강의에서 배웠던 내용을 같이 복습해 봐요!\n",
        "```\n"
      ]
    },
    {
      "cell_type": "markdown",
      "metadata": {
        "id": "gZzqDZKSTyiZ"
      },
      "source": [
        "#### ❓ <font color='red'><b>[ 퀴즈 ]</b></font> ReLU activation function (다중선택)\n",
        "``` python\n",
        "ReLU activation의 특징으로 틀린 것을 모두 고르면?\n",
        "\n",
        "- (1) ReLU activation의 식은 max(0, x) 이다\n",
        "- (2) 모든 점에서 미분이 가능하다\n",
        "- (3) 특정 범위에서 neuron 이 죽게 된다\n",
        "- (4) Sigmoid, tanh에 비해서 연산이 빠르다\n",
        "- (5) Sigmoid, tanh에 비해서 Gradient가 출력층과 멀리 있는 Layer까지 전달되지 않는다\n",
        "```"
      ]
    },
    {
      "cell_type": "markdown",
      "metadata": {
        "id": "OkjJmDVrTyiZ"
      },
      "source": [
        "```python\n",
        "😉\n",
        "# TODO : 2번, 5번\n",
        "\n",
        "```"
      ]
    },
    {
      "cell_type": "markdown",
      "metadata": {
        "id": "WfWuJ4sNTyiZ"
      },
      "source": [
        "#### ❓ <font color='red'><b>[ 퀴즈 ]</b></font> Objective function (단일선택)\n",
        "\n",
        "``` python\n",
        "흔히 classification task에서는 cross-entropy를 목적식으로 활용합니다.\n",
        "다른 loss 함수로 KL-divergence loss 가 있습니다. KL-divergence는 확률분포 사이의 차이를 비교할 때 사용하는 방법 중의 하나입니다.\n",
        "가령, 확률 분포 P를 모델링하여 확률 분포 Q를 얻었을 때, 모델링한 Q가 원래의 P와 얼마나 차이가 나는 지 확인할 때 사용합니다.\n",
        "\n",
        "이 때, 주어진 확률분포 P, Q 에 대하여, cross-entropy H(P,Q) 수식을 entropy H(X) 와 KL-divergence KL (X|Y) 로 표현할 수 있는데요.\n",
        "수식이 아래와 같을 때, cross-entropy와 KL-divergence의 관계를 올바르게 표현한 것은 어떤 것일까요?\n",
        "```\n",
        "![](https://github.com/Pjunn/GDSC_mlstudy/blob/main/1%EC%A3%BC%EC%B0%A8/ex_image2.png?raw=true)\n",
        "```python\n",
        "- (1) H(P,Q) = H(P) + KL(P||Q)\n",
        "- (2) H(P,Q) = H(Q) + KL(P||Q)\n",
        "- (3) H(P,Q) = H(P) + KL(Q||P)\n",
        "- (4) H(P,Q) = H(Q) + KL(Q||P)\n",
        "```"
      ]
    },
    {
      "cell_type": "markdown",
      "metadata": {
        "id": "p7uATY3ITyia"
      },
      "source": [
        "```python\n",
        "😉\n",
        "# TODO : 1번\n",
        "\n",
        "```"
      ]
    },
    {
      "cell_type": "markdown",
      "metadata": {
        "id": "lMAvZvw6Tyia"
      },
      "source": [
        "#### ❓ <font color='red'><b>[ 퀴즈 ]</b></font> Deep learning training (단일선택)\n",
        "\n",
        "```python\n",
        "다음 보기 중, 가장 올바르게 training 한 사례를 고르세요\n",
        "\n",
        "- (1) cross-validation으로 최적의 parameter set을 찾고 test dataset을 포함해 training을 진행하였다\n",
        "- (2) generalization 성능을 높이기 위하여, training error와 test error의 gap이 충분히 커진 이후 학습을 완료하였다\n",
        "- (3) data augmentation을 적용하여 데이터를 적절하게 변형하고 데이터량을 늘리며 training을 진행하였다\n",
        "- (4) 같은 input units에 연결된 서로 다른 hidden units에 대해, 파라미터들의 초기값을 모두 동일하게 설정하였다\n",
        "\n",
        "```\n"
      ]
    },
    {
      "cell_type": "markdown",
      "metadata": {
        "id": "fGGxl0tjTyib"
      },
      "source": [
        "```python\n",
        "😉\n",
        "# TODO : 3번\n",
        "\n",
        "```"
      ]
    },
    {
      "cell_type": "markdown",
      "metadata": {
        "id": "j-eClv4QTyib"
      },
      "source": [
        "#### ❓ <font color='red'><b>[ 퀴즈 ]</b></font> Regularization (단일선택)\n",
        "\n",
        "```python\n",
        "다음 보기 중, regularization 기법으로 가장 부적절한 것은?\n",
        "\n",
        "- Data Augmentation\n",
        "- Early Stopping\n",
        "- Ensemble\n",
        "- Parameter norm penalty\n",
        "- Dropout\n",
        "```\n"
      ]
    },
    {
      "cell_type": "markdown",
      "metadata": {
        "id": "IOabxezATyib"
      },
      "source": [
        "```python\n",
        "😉\n",
        "# TODO : Ensemble\n",
        "\n",
        "```"
      ]
    },
    {
      "cell_type": "markdown",
      "metadata": {
        "id": "AA1ts8m_Tyic"
      },
      "source": [
        "#### ❓ <font color='red'><b>[ 퀴즈 ]</b></font> CNN 파라미터 갯수 (단답형)\n",
        "\n",
        "```python\n",
        "다음 그림에서, 파란색으로 칠해진 영역으로 표시된, convolutional layer의 파라미터 개수를 구하세요. (단, bias 항은 없다고 가정합니다.)\n",
        "```\n",
        "![](https://github.com/Pjunn/GDSC_mlstudy/blob/main/1%EC%A3%BC%EC%B0%A8/ex_image3.png?raw=true)\n"
      ]
    },
    {
      "cell_type": "markdown",
      "metadata": {
        "id": "yTXh1VyqTyic"
      },
      "source": [
        "```python\n",
        "😉\n",
        "# TODO : 73728\n",
        "\n",
        "```"
      ]
    },
    {
      "cell_type": "markdown",
      "metadata": {
        "id": "vTXJx1OcTyic"
      },
      "source": [
        "#### ❓ <font color='red'><b>[ 퀴즈 ]</b></font> ResNet (단일선택)\n",
        "\n",
        "```python\n",
        "다음 문장의 빈 칸에 들어갈 가장 적절한 단어를 고르세요.\n",
        "\n",
        "\"ResNet improved the performance by proposing _____ connection.\"\n",
        "\n",
        "- attention\n",
        "- skip\n",
        "- normalized\n",
        "- full\n",
        "```"
      ]
    },
    {
      "cell_type": "markdown",
      "metadata": {
        "id": "H_dE_YP-Tyic"
      },
      "source": [
        "```python\n",
        "😉\n",
        "# TODO : skip\n",
        "\n",
        "```"
      ]
    },
    {
      "cell_type": "markdown",
      "metadata": {
        "id": "kAV24USnTyic"
      },
      "source": [
        "## <font color='green'><b>[ 실습 ]</b></font>👨‍💻선형 회귀 구현하기"
      ]
    },
    {
      "cell_type": "markdown",
      "metadata": {
        "id": "BbLbVlicTyic"
      },
      "source": [
        "```python\n",
        "🐙\n",
        "아래 코드를 먼저 실행 시키고 시작해요!\n",
        "\n",
        "아래 이미지에서 볼 수 있듯이, x_train과 y_train은 '선형' 관계를 가지고 있지만, y_train에 노이즈가 포함되어 있어서 점들이 구름처럼 퍼져 있어요.\n",
        "```"
      ]
    },
    {
      "cell_type": "code",
      "execution_count": null,
      "metadata": {
        "colab": {
          "base_uri": "https://localhost:8080/",
          "height": 430
        },
        "id": "_b4ti-quTyic",
        "outputId": "0c22e36d-6287-4588-99df-0c53fc8021a8"
      },
      "outputs": [
        {
          "output_type": "display_data",
          "data": {
            "text/plain": [
              "<Figure size 640x480 with 1 Axes>"
            ],
            "image/png": "[encoded data removed]"
          },
          "metadata": {}
        }
      ],
      "source": [
        "# 꼭 실행시켜주세요!\n",
        "import numpy as np\n",
        "import matplotlib.pyplot as plt\n",
        "\n",
        "# toy dataset 생성\n",
        "np.random.seed(0)\n",
        "x_train = np.random.rand(100, 1)\n",
        "y_train = 5 + 2 * x_train + np.random.rand(100, 1)\n",
        "\n",
        "plt.scatter(x_train, y_train, s=10)\n",
        "plt.show()"
      ]
    },
    {
      "cell_type": "markdown",
      "metadata": {
        "id": "JDdeW2UeTyid"
      },
      "source": [
        "``` python\n",
        "🐙\n",
        "저희의 목표는 주어진 데이터를 가장 잘 설명하는 선형 함수를 찾는 것이에요.\n",
        "데이터와 예측값 사이의 관계는 일반적으로 y = Wx + b와 같은 선형 함수로 나타낼 수 있어요.\n",
        "\n",
        "데이터에 적합한 직선인 y = Wx + b를 찾기 위해서는 예측값과 데이터 간의 오차를 최소화해야 해요.\n",
        "이 오차를 나타내는 지표로 '평균 제곱 오차'(mean squared error, MSE)를 사용할 수 있어요.\n",
        "\n",
        "경사하강법은 손실 함수의 출력을 최소화하기 위한 W와 b를 찾기 위한 방법 중 하나에요.\n",
        "경사하강법을 사용하여 W와 b를 반복적으로 업데이트하면 손실 함수의 값이 점차 감소함을 확인할 수 있답니다.\n",
        "\n",
        "최종적으로, 경사하강법을 통해 얻어진 W와 b는 데이터를 가장 잘 설명하는 직선을 나타내요.\n",
        "이러한 직선은 W와 b에 의해 결정되며, 이를 시각화하여 데이터와의 적합성을 확인할 수 있어요.\n",
        "```\n"
      ]
    },
    {
      "cell_type": "code",
      "execution_count": null,
      "metadata": {
        "colab": {
          "base_uri": "https://localhost:8080/",
          "height": 668
        },
        "id": "bsAyA8VXTyid",
        "outputId": "9afa9ccb-e37d-4e35-c61e-701827392b32"
      },
      "outputs": [
        {
          "output_type": "stream",
          "name": "stdout",
          "text": [
            "Epoch (         0/      5000) loss:  42.296340, W:   0.000000, b:  0.000000\n",
            "Epoch (       500/      5000) loss:   0.087034, W:   2.294539, b:  5.376638\n",
            "Epoch (      1000/      5000) loss:   0.079056, W:   2.119563, b:  5.465334\n",
            "Epoch (      1500/      5000) loss:   0.076971, W:   2.030109, b:  5.510667\n",
            "Epoch (      2000/      5000) loss:   0.076426, W:   1.984379, b:  5.533842\n",
            "Epoch (      2500/      5000) loss:   0.076284, W:   1.961001, b:  5.545689\n",
            "Epoch (      3000/      5000) loss:   0.076246, W:   1.949050, b:  5.551746\n",
            "Epoch (      3500/      5000) loss:   0.076237, W:   1.942941, b:  5.554842\n",
            "Epoch (      4000/      5000) loss:   0.076234, W:   1.939818, b:  5.556425\n",
            "Epoch (      4500/      5000) loss:   0.076233, W:   1.938221, b:  5.557234\n",
            "W:   1.937405\n",
            "b:   5.557647\n"
          ]
        },
        {
          "output_type": "display_data",
          "data": {
            "text/plain": [
              "<Figure size 640x480 with 1 Axes>"
            ],
            "image/png": "[encoded data removed]"
          },
          "metadata": {}
        }
      ],
      "source": [
        "# 꼭 실행시켜주세요!\n",
        "\n",
        "# 초기 Weight와 bias를 0.0으로 설정합니다.\n",
        "Weight = 0.0\n",
        "bias = 0.0\n",
        "\n",
        "# 데이터 개수\n",
        "n_data = len(x_train)\n",
        "\n",
        "# 반복 횟수\n",
        "epochs = 5000\n",
        "# 학습률\n",
        "learning_rate = 0.01\n",
        "\n",
        "# 학습 과정을 반복합니다.\n",
        "for i in range(epochs):\n",
        "    # 예측값을 계산합니다.\n",
        "    y_pred = x_train * Weight + bias\n",
        "\n",
        "    # 평균 제곱 오차(Mean Squared Error) 손실을 계산합니다.\n",
        "    MSE_loss = np.sum((y_pred - y_train) ** 2) / n_data\n",
        "\n",
        "    # Weight에 대한 그래디언트(기울기)를 계산합니다.\n",
        "    gradient_w = np.sum((Weight * x_train - y_train + bias) * 2 * x_train) / n_data\n",
        "    # bias에 대한 그래디언트(기울기)를 계산합니다.\n",
        "    gradient_b = np.sum((Weight * x_train - y_train + bias) * 2) / n_data\n",
        "\n",
        "    # 매 500 에폭마다 현재 에폭 번호, 손실값, Weight, bias를 출력합니다.\n",
        "    if i % 500 == 0:\n",
        "        print('Epoch ({:10d}/{:10d}) loss: {:10f}, W: {:10f}, b:{:10f}'.format(i, epochs, MSE_loss, Weight, bias))\n",
        "\n",
        "    # Weight와 bias를 경사하강법을 이용하여 업데이트합니다.\n",
        "    Weight -= learning_rate * gradient_w\n",
        "    bias -= learning_rate * gradient_b\n",
        "\n",
        "\n",
        "print('W: {:10f}'.format(Weight))\n",
        "print('b: {:10f}'.format(bias))\n",
        "\n",
        "plt.scatter(x_train, y_train, s=10)\n",
        "plt.xlabel('x')\n",
        "plt.ylabel('y')\n",
        "y_pred = x_train * Weight + bias\n",
        "plt.plot(x_train, y_pred, color='r')\n",
        "plt.show()"
      ]
    },
    {
      "cell_type": "markdown",
      "metadata": {
        "id": "udhLeNgoTyid"
      },
      "source": [
        "## <font color='green'><b>[ 코딩 ]</b></font>👨‍💻2D convolution 구현하기"
      ]
    },
    {
      "cell_type": "markdown",
      "metadata": {
        "id": "yCh6WUveTyid"
      },
      "source": [
        "```python\n",
        "🐙\n",
        "주어진 커널과 입력 데이터를 사용하여 컨볼루션 연산을 수행하는 Python 함수를 구현해보아요!\n",
        "\n",
        "함수는 다음과 같은 입력 데이터와 커널을 사용하여 컨볼루션 연산을 수행해요.\n",
        "```"
      ]
    },
    {
      "cell_type": "code",
      "execution_count": null,
      "metadata": {
        "id": "C9Pqe6zyTyie"
      },
      "outputs": [],
      "source": [
        "# 입력 데이터 (4x4 크기의 2D 배열):\n",
        "input_data = [[1, 2, 3, 4],\n",
        "              [5, 6, 7, 8],\n",
        "              [9, 10, 11, 12],\n",
        "              [13, 14, 15, 16]]\n",
        "\n",
        "# 커널 (3x3 크기의 2D 배열):\n",
        "kernel = [[1, 0, -1],\n",
        "          [2, 0, -2],\n",
        "          [1, 0, -1]]\n"
      ]
    },
    {
      "cell_type": "markdown",
      "metadata": {
        "id": "ORb1dGehTyie"
      },
      "source": [
        "```python\n",
        "🐙\n",
        "주어진 입력 데이터와 커널을 사용하여 컨볼루션 연산을 수행하는 Python 함수 convolution을 구현해보아요.\n",
        "이 함수는 입력 데이터와 커널을 인자로 받아서 컨볼루션 연산을 수행하고 결과를 반환해야 해요.\n",
        "\n",
        "구현한 함수를 사용하여 컨볼루션 연산을 수행하고, 결과를 확인해봐요!\n",
        "```"
      ]
    },
    {
      "cell_type": "code",
      "execution_count": null,
      "metadata": {
        "colab": {
          "base_uri": "https://localhost:8080/"
        },
        "id": "hXfbeTtWTyie",
        "outputId": "02b29302-1673-4ecb-bb24-b86f658788a1"
      },
      "outputs": [
        {
          "output_type": "stream",
          "name": "stdout",
          "text": [
            "🎉🎉🎉 성공!!! 🎉🎉🎉\n"
          ]
        }
      ],
      "source": [
        "def convolution(input_data, kernel):\n",
        "\n",
        "    input_height=len(input_data)\n",
        "    input_width=len(input_data[0])\n",
        "    kernel_height=len(kernel)\n",
        "    kernel_width=len(kernel[0])\n",
        "\n",
        "    output_data=[[0]*(input_width-kernel_width +1) for _ in range (input_height-kernel_height +1)]\n",
        "\n",
        "    for i in range(len(output_data)):\n",
        "        for j in range(len(output_data[0])):\n",
        "            output_data[i][j] = 0\n",
        "            for m in range(kernel_height):\n",
        "                for n in range(kernel_width):\n",
        "                    output_data[i][j] += input_data[i + m][j + n] * kernel[m][n]\n",
        "    # 결과 반환\n",
        "    return output_data\n",
        "\n",
        "\n",
        "# 아래 코드는 수정하실 필요가 없습니다!\n",
        "\n",
        "input_data = [[1, 2, 3, 4],\n",
        "              [5, 6, 7, 8],\n",
        "              [9, 10, 11, 12],\n",
        "              [13, 14, 15, 16]]\n",
        "\n",
        "kernel = [[1, 0, -1],\n",
        "          [2, 0, -2],\n",
        "          [1, 0, -1]]\n",
        "\n",
        "output_data = convolution(input_data, kernel)\n",
        "\n",
        "if output_data == [[-8, -8], [-8, -8]]:\n",
        "    print(\"🎉🎉🎉 성공!!! 🎉🎉🎉\")\n",
        "else:\n",
        "    print(\"다시 도전해봐요!\")\n"
      ]
    },
    {
      "cell_type": "markdown",
      "metadata": {
        "id": "SiiC4UpuTyie"
      },
      "source": [
        "## <font color='green'><b>[ 실습 ]</b></font>👨‍💻2D convolution in action"
      ]
    },
    {
      "cell_type": "markdown",
      "metadata": {
        "id": "JZ-JzApRTyie"
      },
      "source": [
        "```python\n",
        "🐙\n",
        "convlution 연산을 한다는 것에는 어떤 의미가 있을까요?\n",
        "강의에서는 해당 \"convolution filter\" 모양의 스탬프를 이미지에 찍는다고 했어요.\n",
        "filter가 변함에 따라서 같은 이미지에 대해서 아웃풋이 어떻게 달라질지 확인해보아요!\n",
        "\n",
        "\"cv2.filter2D\" 함수는 OpenCV에서 제공하는 이미지 필터링 함수로, 이미지와 커널 간의 2D 합성곱을 수행해요.\n",
        "```"
      ]
    },
    {
      "cell_type": "code",
      "execution_count": null,
      "metadata": {
        "colab": {
          "base_uri": "https://localhost:8080/"
        },
        "id": "iwuU4vXETyie",
        "outputId": "aa1ec4af-ff67-40da-e09f-9715f6b0768b"
      },
      "outputs": [
        {
          "output_type": "execute_result",
          "data": {
            "text/plain": [
              "('ex_image1.jpeg', <http.client.HTTPMessage at 0x7c752be370d0>)"
            ]
          },
          "metadata": {},
          "execution_count": 15
        }
      ],
      "source": [
        "# 이미지 다운로드하는 코드입니다. 꼭 실행시켜주세요!\n",
        "import urllib.request\n",
        "\n",
        "# 다운받을 이미지 url\n",
        "url = \"https://github.com/Pjunn/GDSC_mlstudy/blob/main/1%EC%A3%BC%EC%B0%A8/ex_image1.jpeg?raw=true\"\n",
        "\n",
        "# 이미지 요청 및 다운로드\n",
        "urllib.request.urlretrieve(url, \"ex_image1.jpeg\")"
      ]
    },
    {
      "cell_type": "code",
      "execution_count": null,
      "metadata": {
        "id": "aDRn9jSnTyie"
      },
      "outputs": [],
      "source": [
        "import cv2\n",
        "import numpy as np\n",
        "import matplotlib.pyplot as plt\n",
        "\n",
        "# 이미지 파일 경로\n",
        "image_path = 'ex_image1.jpeg'\n",
        "\n",
        "# 이미지를 읽어옵니다.\n",
        "image = cv2.imread(image_path)\n",
        "\n",
        "# 이미지를 그레이스케일(흑백)로 변환합니다.\n",
        "gray_image = cv2.cvtColor(image, cv2.COLOR_BGR2GRAY)\n"
      ]
    },
    {
      "cell_type": "markdown",
      "metadata": {
        "id": "g5BjYP5iTyie"
      },
      "source": [
        "### Outline kernel\n",
        "```python\n",
        "🐙\n",
        "이미지에서 물체의 테두리가 보이는 거 같아요!\n",
        "\n",
        "Outline 커널은 픽셀 값의 큰 차이를 강조하는 데 사용해요. 이웃 픽셀과 비슷한 값을 갖는 픽셀은 새 이미지에서 검은색으로 표시되고, 이웃 픽셀과 차이가 큰 픽셀은 흰색으로 표시되요.\n",
        "```\n"
      ]
    },
    {
      "cell_type": "code",
      "execution_count": null,
      "metadata": {
        "id": "Cm8Q8SsnTyie"
      },
      "outputs": [],
      "source": [
        "# 커널(필터)을 정의합니다.\n",
        "kernel = np.array([[-1, -1, -1],\n",
        "                    [-1, 8, -1],\n",
        "                    [-1, -1, -1]])\n",
        "\n",
        "# 필터를 이미지에 적용합니다.\n",
        "filtered_image = cv2.filter2D(gray_image, -1, kernel)\n",
        "\n",
        "\n",
        "# 결과 이미지를 Matplotlib을 사용하여 화면에 표시합니다.\n",
        "plt.figure(figsize=(10, 6))\n",
        "\n",
        "plt.subplot(1, 2, 1)\n",
        "plt.imshow(gray_image, cmap='gray')\n",
        "plt.title('Original Image')\n",
        "plt.axis('off')\n",
        "\n",
        "plt.subplot(1, 2, 2)\n",
        "plt.imshow(filtered_image, cmap='gray')\n",
        "plt.title('Outline')\n",
        "plt.axis('off')\n",
        "plt.tight_layout()\n",
        "plt.show()"
      ]
    },
    {
      "cell_type": "markdown",
      "metadata": {
        "id": "sFvzabE9Tyif"
      },
      "source": [
        "### Blur kernel\n",
        "```python\n",
        "🐙\n",
        "이미지가 전체적으로 흐려졌어요!\n",
        "\n",
        "Blur 커널은 인접한 픽셀의 차이를 줄이는 데 사용해요.\n",
        "```\n"
      ]
    },
    {
      "cell_type": "code",
      "execution_count": null,
      "metadata": {
        "id": "lReLw9AtTyif"
      },
      "outputs": [],
      "source": [
        "# 커널(필터)을 정의합니다.\n",
        "kernel = np.array([[0.0625, 0.125, 0.0625],\n",
        "                    [0.125, 0.25, 0.125],\n",
        "                    [0.0625, 0.125, 0.0625]])\n",
        "\n",
        "# 필터를 이미지에 적용합니다.\n",
        "filtered_image = cv2.filter2D(gray_image, -1, kernel)\n",
        "\n",
        "\n",
        "# 결과 이미지를 Matplotlib을 사용하여 화면에 표시합니다.\n",
        "plt.figure(figsize=(10, 6))\n",
        "\n",
        "plt.subplot(1, 2, 1)\n",
        "plt.imshow(gray_image, cmap='gray')\n",
        "plt.title('Original Image')\n",
        "plt.axis('off')\n",
        "\n",
        "plt.subplot(1, 2, 2)\n",
        "plt.imshow(filtered_image, cmap='gray')\n",
        "plt.title('Blur')\n",
        "plt.axis('off')\n",
        "plt.tight_layout()\n",
        "plt.show()"
      ]
    },
    {
      "cell_type": "markdown",
      "metadata": {
        "id": "QJdnn--NTyif"
      },
      "source": [
        "### Emboss kernel\n",
        "```python\n",
        "🐙\n",
        "건물이 입체처럼 보여요!\n",
        "\n",
        "Emboss 커널은 픽셀들의 차이를 강조함으로써 깊이에 대한 착시를 줄때 사용해요.\n",
        "```"
      ]
    },
    {
      "cell_type": "code",
      "execution_count": null,
      "metadata": {
        "colab": {
          "base_uri": "https://localhost:8080/",
          "height": 256
        },
        "id": "dRRoCvr5Tyif",
        "outputId": "f1a02de4-b613-4803-e51f-6faa21f3e5e7"
      },
      "outputs": [
        {
          "output_type": "error",
          "ename": "NameError",
          "evalue": "ignored",
          "traceback": [
            "\u001b[0;31m---------------------------------------------------------------------------\u001b[0m",
            "\u001b[0;31mNameError\u001b[0m                                 Traceback (most recent call last)",
            "\u001b[0;32m<ipython-input-10-7e10470f9205>\u001b[0m in \u001b[0;36m<cell line: 7>\u001b[0;34m()\u001b[0m\n\u001b[1;32m      5\u001b[0m \u001b[0;34m\u001b[0m\u001b[0m\n\u001b[1;32m      6\u001b[0m \u001b[0;31m# 필터를 이미지에 적용합니다.\u001b[0m\u001b[0;34m\u001b[0m\u001b[0;34m\u001b[0m\u001b[0m\n\u001b[0;32m----> 7\u001b[0;31m \u001b[0mfiltered_image\u001b[0m \u001b[0;34m=\u001b[0m \u001b[0mcv2\u001b[0m\u001b[0;34m.\u001b[0m\u001b[0mfilter2D\u001b[0m\u001b[0;34m(\u001b[0m\u001b[0mgray_image\u001b[0m\u001b[0;34m,\u001b[0m \u001b[0;34m-\u001b[0m\u001b[0;36m1\u001b[0m\u001b[0;34m,\u001b[0m \u001b[0mkernel\u001b[0m\u001b[0;34m)\u001b[0m\u001b[0;34m\u001b[0m\u001b[0;34m\u001b[0m\u001b[0m\n\u001b[0m\u001b[1;32m      8\u001b[0m \u001b[0;34m\u001b[0m\u001b[0m\n\u001b[1;32m      9\u001b[0m \u001b[0;34m\u001b[0m\u001b[0m\n",
            "\u001b[0;31mNameError\u001b[0m: name 'cv2' is not defined"
          ]
        }
      ],
      "source": [
        "# 커널(필터)을 정의합니다.\n",
        "kernel = np.array([[-2, -1, 0],\n",
        "                    [-1, 1, 1],\n",
        "                    [0, 1, 2]])\n",
        "\n",
        "# 필터를 이미지에 적용합니다.\n",
        "filtered_image = cv2.filter2D(gray_image, -1, kernel)\n",
        "\n",
        "\n",
        "# 결과 이미지를 Matplotlib을 사용하여 화면에 표시합니다.\n",
        "plt.figure(figsize=(10, 6))\n",
        "\n",
        "plt.subplot(1, 2, 1)\n",
        "plt.imshow(gray_image, cmap='gray')\n",
        "plt.title('Original Image')\n",
        "plt.axis('off')\n",
        "\n",
        "plt.subplot(1, 2, 2)\n",
        "plt.imshow(filtered_image, cmap='gray')\n",
        "plt.title('Emboss')\n",
        "plt.axis('off')\n",
        "plt.tight_layout()\n",
        "plt.show()"
      ]
    },
    {
      "cell_type": "markdown",
      "metadata": {
        "id": "HjVX2hw9Tyif"
      },
      "source": [
        "### Sharpen kernel\n",
        "```python\n",
        "🐙\n",
        "이미지가 더 선명해진 거 같아요!\n",
        "\n",
        "Sharpen kernel은 인접한 픽셀 값의 차이를 강조하여 이미지를 더욱 선명하게 보이게 할때 사용해요.\n",
        "```"
      ]
    },
    {
      "cell_type": "code",
      "execution_count": null,
      "metadata": {
        "colab": {
          "base_uri": "https://localhost:8080/",
          "height": 256
        },
        "id": "rtDJipQPTyif",
        "outputId": "4e126721-e480-4165-e4b1-a0133418ff7c"
      },
      "outputs": [
        {
          "output_type": "error",
          "ename": "NameError",
          "evalue": "ignored",
          "traceback": [
            "\u001b[0;31m---------------------------------------------------------------------------\u001b[0m",
            "\u001b[0;31mNameError\u001b[0m                                 Traceback (most recent call last)",
            "\u001b[0;32m<ipython-input-9-4c8e525f68ee>\u001b[0m in \u001b[0;36m<cell line: 7>\u001b[0;34m()\u001b[0m\n\u001b[1;32m      5\u001b[0m \u001b[0;34m\u001b[0m\u001b[0m\n\u001b[1;32m      6\u001b[0m \u001b[0;31m# 필터를 이미지에 적용합니다.\u001b[0m\u001b[0;34m\u001b[0m\u001b[0;34m\u001b[0m\u001b[0m\n\u001b[0;32m----> 7\u001b[0;31m \u001b[0mfiltered_image\u001b[0m \u001b[0;34m=\u001b[0m \u001b[0mcv2\u001b[0m\u001b[0;34m.\u001b[0m\u001b[0mfilter2D\u001b[0m\u001b[0;34m(\u001b[0m\u001b[0mgray_image\u001b[0m\u001b[0;34m,\u001b[0m \u001b[0;34m-\u001b[0m\u001b[0;36m1\u001b[0m\u001b[0;34m,\u001b[0m \u001b[0mkernel\u001b[0m\u001b[0;34m)\u001b[0m\u001b[0;34m\u001b[0m\u001b[0;34m\u001b[0m\u001b[0m\n\u001b[0m\u001b[1;32m      8\u001b[0m \u001b[0;34m\u001b[0m\u001b[0m\n\u001b[1;32m      9\u001b[0m \u001b[0;34m\u001b[0m\u001b[0m\n",
            "\u001b[0;31mNameError\u001b[0m: name 'cv2' is not defined"
          ]
        }
      ],
      "source": [
        "# 커널(필터)을 정의합니다.\n",
        "kernel = np.array([[0, -1, 0],\n",
        "                    [-1, 5,-1],\n",
        "                    [0, -1, 0]])\n",
        "\n",
        "# 필터를 이미지에 적용합니다.\n",
        "filtered_image = cv2.filter2D(gray_image, -1, kernel)\n",
        "\n",
        "\n",
        "# 결과 이미지를 Matplotlib을 사용하여 화면에 표시합니다.\n",
        "plt.figure(figsize=(10, 6))\n",
        "\n",
        "plt.subplot(1, 2, 1)\n",
        "plt.imshow(gray_image, cmap='gray')\n",
        "plt.title('Original Image')\n",
        "plt.axis('off')\n",
        "\n",
        "plt.subplot(1, 2, 2)\n",
        "plt.imshow(filtered_image, cmap='gray')\n",
        "plt.title('Sharpen')\n",
        "plt.axis('off')\n",
        "plt.tight_layout()\n",
        "plt.show()"
      ]
    },
    {
      "cell_type": "markdown",
      "metadata": {
        "id": "Pn5OSU7ITyif"
      },
      "source": [
        "## <font color='green'><b>[ 코딩 ]</b></font>👨‍💻AlexNet의 총 parameter 개수\n",
        "\n",
        "```python\n",
        "🐙\n",
        "합성곱 연산에서 커널(가충치, Weight)의 윈도우를 일정한 간격으로 이동해가며 계산해요. 이후 편향(bias)를 더해주어 최종 출력을 완성해요.\n",
        "```\n",
        "![conv](https://github.com/Pjunn/GDSC_mlstudy/blob/main/1%EC%A3%BC%EC%B0%A8/conv_bias.gif?raw=true)\n",
        "\n",
        "```python\n",
        "🐙\n",
        "위 예시를 살펴보아요!\n",
        "위 예시의 그림에서 파라미터 개수를 계산해 본다면 커널: 3*3 = 9개, 편향: 1개 이고, 따라서 총 파라미터 개수는 10개에요. 이때 편향의 개수는 커널의 개수와 일치해요.\n",
        "\n",
        "이제 AlexNet의 파라미터 개수를 같이 계산해보아요!\n",
        "```\n",
        "![an](https://github.com/Pjunn/GDSC_mlstudy/blob/main/1%EC%A3%BC%EC%B0%A8/alexnet.png?raw=true)\n",
        "```python\n",
        "🐙\n",
        "첫 번째 'convolution' 레이어를 보면 커널의 크기가 11x11 이고 입력 채널수가 3, 출력 채널수가 48*2 = 96 이에요.\n",
        "이때 파라미터 개수를 계산해 보면 커널: 11 * 11 * 3 * 96 = 34848개 이고 편향: 96개 로 총 34944개임을 알 수 있어요.\n",
        "\n",
        "두 번째 Layer 부터 두 개의 갈래로 나누어지는데요. 이때는 입력 채널수와 출력 채널수를 구할 때 두 갈래로 나뉜 값을 하나로 더한다고 생각하여 계산할 수 있어요.\n",
        "EX. 두 번째 Layer의 입력 채널수는 48 + 48 = 96 이고 출력 채널수는 128 + 128 = 256 이에요!\n",
        "\n",
        "여섯 번째 레이어인 첫 번째 'Fully Connected(FC)' 레이어는 이전 레이어에서 Max-Pooling 연산을 거쳐 6x6x256 사이즈의 출력을 받게 되요.\n",
        "이때의 파라미터 개수를 계산해보면 다음과 같아요:\n",
        "\n",
        "가중치 (Weights): 입력 차원인 6x6x256 과 출력 차원인 4096 사이의 연결을 나타내는 가중치에요.\n",
        "편향 (Bias): 각 뉴런마다 하나의 편향이 존재해요.\n",
        "\n",
        "따라서 가중치 파라미터: (6 * 6 * 256) * 4096 = 37748736개 이고 편향: 4096개 로 총 37752832개임을 알 수 있어요.\n",
        "\n",
        "이제 나머지 Layer에 대해서도 파라미터 개수를 구해보아요!\n",
        "```\n"
      ]
    },
    {
      "cell_type": "code",
      "execution_count": null,
      "metadata": {
        "colab": {
          "base_uri": "https://localhost:8080/"
        },
        "id": "SG5xeZU4Tyif",
        "outputId": "0b002ceb-5d46-4cb9-fe88-b7a857feb0a8"
      },
      "outputs": [
        {
          "output_type": "stream",
          "name": "stdout",
          "text": [
            "🎉🎉🎉 성공!!! 🎉🎉🎉\n"
          ]
        }
      ],
      "source": [
        "def calculate_alexnet_parameters():\n",
        "    # 각 레이어의 파라미터 개수 계산\n",
        "    Conv1_parameters = 34944\n",
        "    Conv2_parameters = 614656\n",
        "    Conv3_parameters = 885120\n",
        "    Conv4_parameters = 1327488\n",
        "    Conv5_parameters = 884992\n",
        "    FC1_parameters = 37752832\n",
        "    FC2_parameters = 16781312\n",
        "    FC3_parameters = 4097000\n",
        "\n",
        "    total_parameters = Conv1_parameters + Conv2_parameters + Conv3_parameters + Conv4_parameters \\\n",
        "                        + Conv5_parameters + FC1_parameters + FC2_parameters + FC3_parameters\n",
        "\n",
        "    return total_parameters\n",
        "\n",
        "\n",
        "\n",
        "# 아래 코드는 수정하실 필요가 없습니다!\n",
        "\n",
        "# 총 파라미터 개수 계산\n",
        "total_parameters = calculate_alexnet_parameters()\n",
        "\n",
        "if total_parameters == 62378344:\n",
        "    print(\"🎉🎉🎉 성공!!! 🎉🎉🎉\")\n",
        "else:\n",
        "    print(\"다시 도전해봐요!\")"
      ]
    },
    {
      "cell_type": "markdown",
      "metadata": {
        "id": "LFFhgOVNTyig"
      },
      "source": [
        "### 🎉🎉🎉 1주차 과제 완료! 🎉🎉🎉\n",
        "```python\n",
        "🐙\n",
        "여기까지 오다니 정말 믿기지 않아요!\n",
        "딥러닝에 대해서 아무것도 몰랐던 제가 이제는 모델을 보고 파라미터 계산을 할 수 있게 되었어요!\n",
        "아직 배울 것이 많다는 것은 알고 있지만 그래도 너무 기뻐요!\n",
        "여러분도 수고 했어요!!\n",
        "```"
      ]
    }
  ],
  "metadata": {
    "kernelspec": {
      "display_name": "base",
      "language": "python",
      "name": "python3"
    },
    "language_info": {
      "codemirror_mode": {
        "name": "ipython",
        "version": 3
      },
      "file_extension": ".py",
      "mimetype": "text/x-python",
      "name": "python",
      "nbconvert_exporter": "python",
      "pygments_lexer": "ipython3",
      "version": "3.10.9"
    },
    "orig_nbformat": 4,
    "colab": {
      "provenance": []
    }
  },
  "nbformat": 4,
  "nbformat_minor": 0
}